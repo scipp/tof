{
 "cells": [
  {
   "cell_type": "markdown",
   "id": "6b645603-12c0-4b3d-ab3c-529ad4f373e3",
   "metadata": {},
   "source": [
    "# Creating sources\n",
    "\n",
    "This notebook will illustrate how to create different kinds of neutron sources for the beamline."
   ]
  },
  {
   "cell_type": "code",
   "execution_count": null,
   "id": "899a245a-0ae7-45dd-b684-3b9d1c034cc6",
   "metadata": {},
   "outputs": [],
   "source": [
    "import numpy as np\n",
    "import scipp as sc\n",
    "import tof\n",
    "\n",
    "Hz = sc.Unit('Hz')"
   ]
  },
  {
   "cell_type": "markdown",
   "id": "2294ac91-961b-4347-a1df-80662721fe49",
   "metadata": {},
   "source": [
    "## The ESS source\n",
    "\n",
    "Sources are characterized by five aspects:\n",
    "\n",
    "- the number of neutrons in a pulse\n",
    "- the time at which each neutron is born inside the pulse\n",
    "- the wavelength of each neutron inside the pulse\n",
    "- the pulse frequency (or repetition rate)\n",
    "- the number of pulses\n",
    "\n",
    "The default way of creating a source is to choose a facility name and a number of neutrons.\n",
    "Each facility defines time and wavelength probability distributions for the neutrons, as well as a pulse frequency.\n",
    "By default, a single pulse is generated."
   ]
  },
  {
   "cell_type": "code",
   "execution_count": null,
   "id": "1e356a02-0c4c-42b9-8115-6abe7741ad8d",
   "metadata": {},
   "outputs": [],
   "source": [
    "source = tof.Source(facility='ess', neutrons=1_000_000)\n",
    "source"
   ]
  },
  {
   "cell_type": "markdown",
   "id": "1bf9e593-fb94-4174-b4f1-7cab27b7cf49",
   "metadata": {},
   "source": [
    "To inspect the data in the pulse, we can either look at the source's `data` property"
   ]
  },
  {
   "cell_type": "code",
   "execution_count": null,
   "id": "88514d20-4fcc-4b33-b428-708e5cb0b1a5",
   "metadata": {},
   "outputs": [],
   "source": [
    "source.data"
   ]
  },
  {
   "cell_type": "markdown",
   "id": "75969bc3-9d28-4aa0-9f0b-7a6eafb3ed93",
   "metadata": {},
   "source": [
    "or we can plot it with"
   ]
  },
  {
   "cell_type": "code",
   "execution_count": null,
   "id": "74b69926-a979-4f41-a4ad-128477a8eebf",
   "metadata": {},
   "outputs": [],
   "source": [
    "source.plot()"
   ]
  },
  {
   "cell_type": "markdown",
   "id": "78fc25ec-39f0-43fb-a324-b522e050485f",
   "metadata": {},
   "source": [
    "## Specifying time and wavelength distributions\n",
    "\n",
    "It is also possible to create sources with custom time and wavelength distributions.\n",
    "For this, we need to use the `Source.from_distribution()` method.\n",
    "\n",
    "### Flat distributions\n",
    "\n",
    "The `from_distribution` method require two arrays that define the time (`p_time`) and wavelength (`p_wav`) distributions for the neutrons in the pulse.\n",
    "The array values represent the probabilities, while the associated coordinates represent the values to be sampled from.\n",
    "\n",
    "We first show how to create flat time and wavelength distributions.\n",
    "\n",
    "\n",
    "To create a pulse with 1 million neutrons, uniformly distributed in the ranges of 1-3 ms for birth times,\n",
    "and 1-10 Å for wavelengths, we write:"
   ]
  },
  {
   "cell_type": "code",
   "execution_count": null,
   "id": "a2699065-309c-439c-bcda-bf15d20edd0b",
   "metadata": {},
   "outputs": [],
   "source": [
    "time = sc.array(dims=['time'], values=[1.0, 3.0], unit='ms')\n",
    "p_time = sc.DataArray(\n",
    "    data=sc.ones(sizes=time.sizes),\n",
    "    coords={'time': time},\n",
    ")\n",
    "\n",
    "wavelength = sc.array(dims=['wavelength'], values=[1.0, 10.0], unit='angstrom')\n",
    "p_wav = sc.DataArray(\n",
    "    data=sc.ones(sizes=wavelength.sizes),\n",
    "    coords={'wavelength': wavelength},\n",
    ")\n",
    "\n",
    "source = tof.Source.from_distribution(\n",
    "    neutrons=1_000_000,\n",
    "    p_time=p_time,\n",
    "    p_wav=p_wav,\n",
    ")\n",
    "source.plot()"
   ]
  },
  {
   "cell_type": "markdown",
   "id": "af4c567b-86bb-46a5-b8e5-7c8e829ce49d",
   "metadata": {},
   "source": [
    "### Custom distributions\n",
    "\n",
    "Pulses at neutron facilities are rarely flat,\n",
    "and it is thus useful to be able to supply custom distributions as arrays of probabilities.\n",
    "The array values represent the probabilities, while the associated coordinates represent the values to be sampled from.\n",
    "\n",
    "As an example, we create a triangular distribution for the neutron birth times,\n",
    "and a linearly increasing distribution for the neutron wavelengths\n",
    "(note that internally a linear interpolation is performed on the original data)."
   ]
  },
  {
   "cell_type": "code",
   "execution_count": null,
   "id": "1d006ca3-3ea0-4071-bc10-cd65e535bd3d",
   "metadata": {},
   "outputs": [],
   "source": [
    "v = np.arange(30.0)\n",
    "p_time = sc.DataArray(\n",
    "    data=sc.array(dims=['time'], values=np.concatenate([v, v[::-1]])),\n",
    "    coords={'time': sc.linspace('time', 0.1, 6.0, len(v) * 2, unit='ms')},\n",
    ")\n",
    "p_wav = sc.DataArray(\n",
    "    data=sc.array(dims=['wavelength'], values=[1.0, 4.0]),\n",
    "    coords={\n",
    "        'wavelength': sc.array(dims=['wavelength'], values=[1.0, 4.0], unit='angstrom')\n",
    "    },\n",
    ")\n",
    "\n",
    "source = tof.Source.from_distribution(neutrons=200_000, p_time=p_time, p_wav=p_wav)\n",
    "source.plot()"
   ]
  },
  {
   "cell_type": "markdown",
   "id": "142ac37a-b456-4d97-9b8e-a27443de6d0a",
   "metadata": {},
   "source": [
    "Note that the time and wavelength distributions are independent;\n",
    "a neutron with a randomly selected birth time from `p_time` can adopt any wavelength in `p_wav`\n",
    "(in other words, the two distributions are simply broadcast into a square 2D parameter space)."
   ]
  },
  {
   "cell_type": "markdown",
   "id": "60077d8d-224d-404a-8768-7b18a973cbb2",
   "metadata": {},
   "source": [
    "## Specifying neutrons manually\n",
    "\n",
    "Finally, it is possible to simply specify a list of birth times and wavelengths manually to create a pulse via the `from_neutrons` method."
   ]
  },
  {
   "cell_type": "code",
   "execution_count": null,
   "id": "43177e0c-652e-4665-a31c-1f7abf2897ee",
   "metadata": {},
   "outputs": [],
   "source": [
    "birth_times = sc.array(\n",
    "    dims=['event'],\n",
    "    values=[0.0, 0.1, 0.2, 0.56],\n",
    "    unit='ms',\n",
    ")\n",
    "wavelengths = sc.array(dims=['event'], values=[5.0, 8.0, 11.0, 7.1], unit='angstrom')\n",
    "\n",
    "source = tof.Source.from_neutrons(birth_times=birth_times, wavelengths=wavelengths)\n",
    "source.plot()"
   ]
  },
  {
   "cell_type": "markdown",
   "id": "8aece779-85f0-4662-97e2-9f64b8a2d562",
   "metadata": {},
   "source": [
    "## Multiple pulses\n",
    "\n",
    "To make more than one pulse, use the `pulses` parameter:"
   ]
  },
  {
   "cell_type": "code",
   "execution_count": null,
   "id": "06baecce-dc05-4142-aed4-0c22b7d8a129",
   "metadata": {},
   "outputs": [],
   "source": [
    "tof.Source(facility='ess', neutrons=100_000, pulses=3).plot()"
   ]
  },
  {
   "cell_type": "markdown",
   "id": "560fb19b-4ead-4116-946c-c2ff682fe94c",
   "metadata": {},
   "source": [
    "If a custom distribution is supplied, a frequency for the pulse repetition rate must be supplied:"
   ]
  },
  {
   "cell_type": "code",
   "execution_count": null,
   "id": "47610f5d-9cc3-46ab-a1ca-3b9961b44a7f",
   "metadata": {},
   "outputs": [],
   "source": [
    "tof.Source.from_distribution(\n",
    "    neutrons=200_000, p_time=p_time, p_wav=p_wav, pulses=2, frequency=100.0 * Hz\n",
    ").plot()"
   ]
  },
  {
   "cell_type": "markdown",
   "id": "26e348c4-e053-46a6-aa5e-8d57bbbd0176",
   "metadata": {},
   "source": [
    "If a source was created from individual neutrons, the same neutrons will be repeated in all the pulses:"
   ]
  },
  {
   "cell_type": "code",
   "execution_count": null,
   "id": "3b765974-fe8f-4694-b64f-cba13fae4c43",
   "metadata": {},
   "outputs": [],
   "source": [
    "tof.Source.from_neutrons(\n",
    "    birth_times=birth_times, wavelengths=wavelengths, pulses=3, frequency=500.0 * Hz\n",
    ").plot()"
   ]
  }
 ],
 "metadata": {
  "kernelspec": {
   "display_name": "Python 3 (ipykernel)",
   "language": "python",
   "name": "python3"
  },
  "language_info": {
   "codemirror_mode": {
    "name": "ipython",
    "version": 3
   },
   "file_extension": ".py",
   "mimetype": "text/x-python",
   "name": "python",
   "nbconvert_exporter": "python",
   "pygments_lexer": "ipython3"
  }
 },
 "nbformat": 4,
 "nbformat_minor": 5
}
