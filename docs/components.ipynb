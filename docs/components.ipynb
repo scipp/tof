{
 "cells": [
  {
   "cell_type": "markdown",
   "id": "0",
   "metadata": {},
   "source": [
    "# Component guide\n",
    "\n",
    "The notebook will describe the different component that can be added to the beamline,\n",
    "their parameters, and how to inspect the neutrons that reach each component."
   ]
  },
  {
   "cell_type": "code",
   "execution_count": null,
   "id": "1",
   "metadata": {},
   "outputs": [],
   "source": [
    "import numpy as np\n",
    "import scipp as sc\n",
    "import tof\n",
    "\n",
    "meter = sc.Unit('m')\n",
    "Hz = sc.Unit('Hz')\n",
    "deg = sc.Unit('deg')"
   ]
  },
  {
   "cell_type": "markdown",
   "id": "2",
   "metadata": {},
   "source": [
    "We begin by making a source pulse using the profile from ESS."
   ]
  },
  {
   "cell_type": "code",
   "execution_count": null,
   "id": "3",
   "metadata": {},
   "outputs": [],
   "source": [
    "source = tof.Source(facility='ess', neutrons=1_000_000)\n",
    "source.plot()"
   ]
  },
  {
   "cell_type": "markdown",
   "id": "4",
   "metadata": {},
   "source": [
    "## Adding a detector\n",
    "\n",
    "We first add a `Detector` component which simply records all the neutrons that reach it.\n",
    "It does not block any neutrons, they all travel through the detector without being absorbed."
   ]
  },
  {
   "cell_type": "code",
   "execution_count": null,
   "id": "5",
   "metadata": {},
   "outputs": [],
   "source": [
    "detector = tof.Detector(distance=30.0 * meter, name='detector')\n",
    "\n",
    "# Build the instrument model\n",
    "model = tof.Model(source=source, detectors=[detector])\n",
    "model"
   ]
  },
  {
   "cell_type": "code",
   "execution_count": null,
   "id": "6",
   "metadata": {},
   "outputs": [],
   "source": [
    "# Run and plot the rays\n",
    "res = model.run()\n",
    "res.plot()"
   ]
  },
  {
   "cell_type": "markdown",
   "id": "7",
   "metadata": {},
   "source": [
    "As expected, the detector sees all the neutrons from the pulse.\n",
    "Each component in the instrument has a `.plot()` method,\n",
    "which allows us to quickly visualize histograms of the neutron counts at the detector."
   ]
  },
  {
   "cell_type": "code",
   "execution_count": null,
   "id": "8",
   "metadata": {},
   "outputs": [],
   "source": [
    "res.detectors['detector'].plot()"
   ]
  },
  {
   "cell_type": "markdown",
   "id": "9",
   "metadata": {},
   "source": [
    "The data itself is available via the `.toas`, `.wavelengths`, `.birth_times`, and `.speeds` properties,\n",
    "depending on which one you wish to inspect.\n",
    "\n",
    "Note that we here need to have the additional `.visible` property in the chain,\n",
    "because components have both `.visible` and `.blocked` neutrons,\n",
    "but only choppers have blocked data (it is `None` for detectors)."
   ]
  },
  {
   "cell_type": "code",
   "execution_count": null,
   "id": "10",
   "metadata": {},
   "outputs": [],
   "source": [
    "res.detectors['detector'].toas.visible.data"
   ]
  },
  {
   "cell_type": "markdown",
   "id": "11",
   "metadata": {},
   "source": [
    "## Adding a chopper\n",
    "\n",
    "Next, we add a chopper in the beamline,\n",
    "with a frequency, phase, distance from source,\n",
    "and a set of open and close angles for the cutouts in the rotating disk."
   ]
  },
  {
   "cell_type": "code",
   "execution_count": null,
   "id": "12",
   "metadata": {},
   "outputs": [],
   "source": [
    "chopper1 = tof.Chopper(\n",
    "    frequency=10.0 * Hz,\n",
    "    open=sc.array(\n",
    "        dims=['cutout'],\n",
    "        values=[30.0, 50.0],\n",
    "        unit='deg',\n",
    "    ),\n",
    "    close=sc.array(\n",
    "        dims=['cutout'],\n",
    "        values=[40.0, 80.0],\n",
    "        unit='deg',\n",
    "    ),\n",
    "    phase=0.0 * deg,\n",
    "    distance=8 * meter,\n",
    "    name=\"Chopper1\",\n",
    ")\n",
    "chopper1"
   ]
  },
  {
   "cell_type": "markdown",
   "id": "13",
   "metadata": {},
   "source": [
    "We can directly set this on our existing model, and re-run the simulation."
   ]
  },
  {
   "cell_type": "code",
   "execution_count": null,
   "id": "14",
   "metadata": {},
   "outputs": [],
   "source": [
    "model.add(chopper1)\n",
    "res = model.run()\n",
    "res.plot()"
   ]
  },
  {
   "cell_type": "markdown",
   "id": "15",
   "metadata": {},
   "source": [
    "As expected, the two openings now create two bursts of neutrons,\n",
    "separating the wavelengths into two groups.\n",
    "\n",
    "If we plot the chopper data,"
   ]
  },
  {
   "cell_type": "code",
   "execution_count": null,
   "id": "16",
   "metadata": {},
   "outputs": [],
   "source": [
    "res.choppers['Chopper1'].toas.plot()"
   ]
  },
  {
   "cell_type": "markdown",
   "id": "17",
   "metadata": {},
   "source": [
    "we notice that the chopper sees all the incoming neutrons,\n",
    "and blocks many of them (gray), only allowing a subset to pass through the openings (blue).\n",
    "\n",
    "The detector now sees two peaks in its histogrammed counts:"
   ]
  },
  {
   "cell_type": "code",
   "execution_count": null,
   "id": "18",
   "metadata": {},
   "outputs": [],
   "source": [
    "res.detectors['detector'].toas.plot()"
   ]
  },
  {
   "cell_type": "markdown",
   "id": "19",
   "metadata": {},
   "source": [
    "## Multiple choppers\n",
    "\n",
    "It is of course possible to add more than one chopper.\n",
    "Here we add a second one, further down the beam path,\n",
    "which splits each of the groups into two more groups."
   ]
  },
  {
   "cell_type": "code",
   "execution_count": null,
   "id": "20",
   "metadata": {},
   "outputs": [],
   "source": [
    "chopper2 = tof.Chopper(\n",
    "    frequency=5.0 * Hz,\n",
    "    open=sc.array(\n",
    "        dims=['cutout'],\n",
    "        values=[30.0, 40.0, 55.0, 70.0],\n",
    "        unit='deg',\n",
    "    ),\n",
    "    close=sc.array(\n",
    "        dims=['cutout'],\n",
    "        values=[35.0, 48.0, 65.0, 90.0],\n",
    "        unit='deg',\n",
    "    ),\n",
    "    phase=0.0 * deg,\n",
    "    distance=20 * meter,\n",
    "    name=\"Chopper2\",\n",
    ")\n",
    "\n",
    "model.add(chopper2)\n",
    "res = model.run()\n",
    "res.plot()"
   ]
  },
  {
   "cell_type": "markdown",
   "id": "21",
   "metadata": {},
   "source": [
    "The distribution of neutrons that are blocked and pass through the second chopper looks as follows:"
   ]
  },
  {
   "cell_type": "code",
   "execution_count": null,
   "id": "22",
   "metadata": {},
   "outputs": [],
   "source": [
    "res.choppers['Chopper2'].plot()"
   ]
  },
  {
   "cell_type": "markdown",
   "id": "23",
   "metadata": {},
   "source": [
    "while the detector now sees 4 peaks"
   ]
  },
  {
   "cell_type": "code",
   "execution_count": null,
   "id": "24",
   "metadata": {},
   "outputs": [],
   "source": [
    "res.detectors['detector'].plot()"
   ]
  },
  {
   "cell_type": "markdown",
   "id": "25",
   "metadata": {},
   "source": [
    "To view the blocked rays on the time-distance diagram of the model, use"
   ]
  },
  {
   "cell_type": "code",
   "execution_count": null,
   "id": "26",
   "metadata": {},
   "outputs": [],
   "source": [
    "res.plot(max_rays=100, blocked_rays=5000)"
   ]
  },
  {
   "cell_type": "markdown",
   "id": "27",
   "metadata": {},
   "source": [
    "## Adding a monitor\n",
    "\n",
    "Detectors can be placed anywhere in the beam path,\n",
    "and in the next example we place a detector (which will act as a monitor) between the first and second chopper."
   ]
  },
  {
   "cell_type": "code",
   "execution_count": null,
   "id": "28",
   "metadata": {},
   "outputs": [],
   "source": [
    "monitor = tof.Detector(distance=15.0 * meter, name='monitor')\n",
    "\n",
    "model.add(monitor)\n",
    "res = model.run()\n",
    "res.plot()"
   ]
  },
  {
   "cell_type": "code",
   "execution_count": null,
   "id": "29",
   "metadata": {},
   "outputs": [],
   "source": [
    "res.detectors['monitor'].plot()"
   ]
  },
  {
   "cell_type": "markdown",
   "id": "30",
   "metadata": {},
   "source": [
    "## Counter-rotating chopper\n",
    "\n",
    "By default, choppers are rotating clockwise.\n",
    "This means than when open and close angles of the chopper windows are defined as increasing angles in the anti-clockwise direction,\n",
    "the first window (with the lowest opening angles) will be the first one to pass in front of the beam.\n",
    "\n",
    "To make a chopper rotate in the anti-clockwise direction, use the `direction` argument:"
   ]
  },
  {
   "cell_type": "code",
   "execution_count": null,
   "id": "31",
   "metadata": {},
   "outputs": [],
   "source": [
    "chopper = tof.Chopper(\n",
    "    frequency=10.0 * Hz,\n",
    "    open=sc.array(\n",
    "        dims=['cutout'],\n",
    "        values=[280.0, 320.0],\n",
    "        unit='deg',\n",
    "    ),\n",
    "    close=sc.array(\n",
    "        dims=['cutout'],\n",
    "        values=[310.0, 330.0],\n",
    "        unit='deg',\n",
    "    ),\n",
    "    direction=tof.AntiClockwise,\n",
    "    phase=0.0 * deg,\n",
    "    distance=8 * meter,\n",
    "    name=\"Counter-rotating chopper\",\n",
    ")\n",
    "\n",
    "model = tof.Model(source=source, detectors=[detector], choppers=[chopper])\n",
    "res = model.run()"
   ]
  },
  {
   "cell_type": "code",
   "execution_count": null,
   "id": "32",
   "metadata": {},
   "outputs": [],
   "source": [
    "res.plot()"
   ]
  }
 ],
 "metadata": {
  "kernelspec": {
   "display_name": "Python 3 (ipykernel)",
   "language": "python",
   "name": "python3"
  },
  "language_info": {
   "codemirror_mode": {
    "name": "ipython",
    "version": 3
   },
   "file_extension": ".py",
   "mimetype": "text/x-python",
   "name": "python",
   "nbconvert_exporter": "python",
   "pygments_lexer": "ipython3"
  }
 },
 "nbformat": 4,
 "nbformat_minor": 5
}
