{
 "cells": [
  {
   "cell_type": "markdown",
   "id": "32ad7110-b627-4e52-b014-a70ad3d5193a",
   "metadata": {},
   "source": [
    "# Component guide\n",
    "\n",
    "The notebook will describe the different component that can be added to the beamline,\n",
    "their parameters, and how to inspect the neutrons that reach each component."
   ]
  },
  {
   "cell_type": "code",
   "execution_count": null,
   "id": "1d69bb0a-4b4d-47c6-9465-318c21e72e7c",
   "metadata": {},
   "outputs": [],
   "source": [
    "import numpy as np\n",
    "import scipp as sc\n",
    "import tof\n",
    "\n",
    "meter = sc.Unit('m')\n",
    "Hz = sc.Unit('Hz')\n",
    "deg = sc.Unit('deg')"
   ]
  },
  {
   "cell_type": "markdown",
   "id": "0543c13d-847d-4642-8736-14a75ed5fd01",
   "metadata": {},
   "source": [
    "We begin by making a pulse using the profile from ESS."
   ]
  },
  {
   "cell_type": "code",
   "execution_count": null,
   "id": "35b39244-c45b-4bdb-8138-7d0e56a40478",
   "metadata": {},
   "outputs": [],
   "source": [
    "pulse = tof.Pulse(facility='ess', neutrons=1_000_000)\n",
    "pulse.plot()"
   ]
  },
  {
   "cell_type": "markdown",
   "id": "3c6ecb82-a47f-4f66-a067-9224e9d67be9",
   "metadata": {},
   "source": [
    "## Adding a detector\n",
    "\n",
    "We first add a `Detector` component which simply records all the neutrons that reach it.\n",
    "It does not block any neutrons, they all travel through the detector without being absorbed."
   ]
  },
  {
   "cell_type": "code",
   "execution_count": null,
   "id": "e2ced2be-d642-4886-9281-37cd90102c31",
   "metadata": {},
   "outputs": [],
   "source": [
    "detector = tof.Detector(distance=30.0 * meter)\n",
    "\n",
    "# Build the instrument model\n",
    "model = tof.Model(pulse=pulse, detectors=[detector])\n",
    "model"
   ]
  },
  {
   "cell_type": "code",
   "execution_count": null,
   "id": "75dd1359-d990-482c-b0d6-4a0ae094b0fc",
   "metadata": {},
   "outputs": [],
   "source": [
    "# Run and plot the rays\n",
    "res = model.run()\n",
    "res.plot()"
   ]
  },
  {
   "cell_type": "markdown",
   "id": "a2c80ee1-5729-4a09-88c0-3c4e04610772",
   "metadata": {},
   "source": [
    "As expected, the detector sees all the neutrons from the pulse.\n",
    "Each component in the instrument has a `.plot()` method,\n",
    "which allows us to quickly visualize histograms of the neutron counts at the detector."
   ]
  },
  {
   "cell_type": "code",
   "execution_count": null,
   "id": "112124d4-689b-408a-9be6-de1bef8a6205",
   "metadata": {},
   "outputs": [],
   "source": [
    "res.detectors['detector'].plot()"
   ]
  },
  {
   "cell_type": "markdown",
   "id": "34267819-4f83-48c6-b51b-9f13742ac3da",
   "metadata": {},
   "source": [
    "The data itself is available via the `.tofs`, `.wavelengths`, `.birth_times`, and `.speeds` properties,\n",
    "depending on which one you wish to inspect.\n",
    "\n",
    "Note that we here need to have the additional `.visible` property in the chain,\n",
    "because components have both `.visible` and `.blocked` neutrons,\n",
    "but only choppers have blocked data (it is `None` for detectors)."
   ]
  },
  {
   "cell_type": "code",
   "execution_count": null,
   "id": "bbda2581-ebfa-44ce-ae58-1f4f2db832d9",
   "metadata": {},
   "outputs": [],
   "source": [
    "res.detectors['detector'].tofs.visible.data"
   ]
  },
  {
   "cell_type": "markdown",
   "id": "89ad197a-4304-4cff-a332-e865a2c93f43",
   "metadata": {},
   "source": [
    "## Adding a chopper\n",
    "\n",
    "Next, we add a chopper in the beamline,\n",
    "with a frequency, phase, distance from source,\n",
    "and a set of open and close angles for the cutouts in the rotating disk."
   ]
  },
  {
   "cell_type": "code",
   "execution_count": null,
   "id": "e7e49cac-affd-4c01-860f-03934bc348e9",
   "metadata": {},
   "outputs": [],
   "source": [
    "chopper1 = tof.Chopper(\n",
    "    frequency=10.0 * Hz,\n",
    "    open=sc.array(\n",
    "        dims=['cutout'],\n",
    "        values=[30.0, 50.0],\n",
    "        unit='deg',\n",
    "    ),\n",
    "    close=sc.array(\n",
    "        dims=['cutout'],\n",
    "        values=[40.0, 80.0],\n",
    "        unit='deg',\n",
    "    ),\n",
    "    phase=0.0 * deg,\n",
    "    distance=8 * meter,\n",
    "    name=\"Chopper1\",\n",
    ")\n",
    "chopper1"
   ]
  },
  {
   "cell_type": "markdown",
   "id": "6893e0a2-70c9-424f-aeb2-aac010fc02bd",
   "metadata": {},
   "source": [
    "We can directly set this on our existing model, and re-run the simulation."
   ]
  },
  {
   "cell_type": "code",
   "execution_count": null,
   "id": "48909c2a-51e8-4532-a8eb-7c7bbba7544d",
   "metadata": {},
   "outputs": [],
   "source": [
    "model.add(chopper1)\n",
    "res = model.run()\n",
    "res.plot()"
   ]
  },
  {
   "cell_type": "markdown",
   "id": "3155b564-12e1-4d06-a2dd-d376314713f4",
   "metadata": {},
   "source": [
    "As expected, the two openings now create two bursts of neutrons,\n",
    "separating the wavelengths into two groups.\n",
    "\n",
    "If we plot the chopper data,"
   ]
  },
  {
   "cell_type": "code",
   "execution_count": null,
   "id": "94bc5f13-4e58-4ae4-ba15-86078ab8311d",
   "metadata": {},
   "outputs": [],
   "source": [
    "res.choppers['Chopper1'].tofs.plot()"
   ]
  },
  {
   "cell_type": "markdown",
   "id": "7ce2e25e-e21f-442b-b729-9b1c7a97893b",
   "metadata": {},
   "source": [
    "we notice that the chopper sees all the incoming neutrons,\n",
    "and blocks many of them (gray), only allowing a subset to pass through the openings (blue).\n",
    "\n",
    "The detector now sees two peaks in its histogrammed counts:"
   ]
  },
  {
   "cell_type": "code",
   "execution_count": null,
   "id": "90341882-625a-432d-8625-3d0850403f85",
   "metadata": {},
   "outputs": [],
   "source": [
    "res.detectors['detector'].tofs.plot()"
   ]
  },
  {
   "cell_type": "markdown",
   "id": "68e35c62-6072-47b1-8c3e-e610826da008",
   "metadata": {},
   "source": [
    "## Multiple choppers\n",
    "\n",
    "It is of course possible to add more than one chopper.\n",
    "Here we add a second one, further down the beam path,\n",
    "which splits each of the groups into two more groups."
   ]
  },
  {
   "cell_type": "code",
   "execution_count": null,
   "id": "ac5f9697-a2a6-45a8-ad99-af6ad1a60be7",
   "metadata": {},
   "outputs": [],
   "source": [
    "chopper2 = tof.Chopper(\n",
    "    frequency=5.0 * Hz,\n",
    "    open=sc.array(\n",
    "        dims=['cutout'],\n",
    "        values=[30.0, 40.0, 55.0, 70.0],\n",
    "        unit='deg',\n",
    "    ),\n",
    "    close=sc.array(\n",
    "        dims=['cutout'],\n",
    "        values=[35.0, 48.0, 65.0, 90.0],\n",
    "        unit='deg',\n",
    "    ),\n",
    "    phase=0.0 * deg,\n",
    "    distance=20 * meter,\n",
    "    name=\"Chopper2\",\n",
    ")\n",
    "\n",
    "model.add(chopper2)\n",
    "res = model.run()\n",
    "res.plot()"
   ]
  },
  {
   "cell_type": "markdown",
   "id": "62d721c5-3c3e-457c-ab05-60659fccdaaa",
   "metadata": {},
   "source": [
    "The distribution of neutrons that are blocked and pass through the second chopper looks as follows:"
   ]
  },
  {
   "cell_type": "code",
   "execution_count": null,
   "id": "ab11bd09-73ba-4bf8-9b52-e503d77f3f5c",
   "metadata": {},
   "outputs": [],
   "source": [
    "res.choppers['Chopper2'].plot()"
   ]
  },
  {
   "cell_type": "markdown",
   "id": "09d6cbef-f2f3-48db-a696-b4ed912817c8",
   "metadata": {},
   "source": [
    "while the detector now sees 4 peaks"
   ]
  },
  {
   "cell_type": "code",
   "execution_count": null,
   "id": "20349f5e-bfd3-4ccb-bde4-119f3e3d423a",
   "metadata": {},
   "outputs": [],
   "source": [
    "res.detectors['detector'].plot()"
   ]
  },
  {
   "cell_type": "markdown",
   "id": "55c8ca14-e885-43b2-8409-48c1eb964625",
   "metadata": {},
   "source": [
    "To view the blocked rays on the time-distance diagram of the model, use"
   ]
  },
  {
   "cell_type": "code",
   "execution_count": null,
   "id": "a3e040c6-afee-495f-a32f-7fdcad506df1",
   "metadata": {},
   "outputs": [],
   "source": [
    "res.plot(max_rays=100, blocked_rays=5000)"
   ]
  },
  {
   "cell_type": "markdown",
   "id": "b3c4a5fb-010b-4d6a-a391-4fb48aa4b1d2",
   "metadata": {},
   "source": [
    "## Adding a monitor\n",
    "\n",
    "Detectors can be placed anywhere in the beam path,\n",
    "and in the next example we place a detector (which will act as a monitor) between the first and second chopper."
   ]
  },
  {
   "cell_type": "code",
   "execution_count": null,
   "id": "1c8bdc32-583a-4c7c-8c6d-34dab8061c6f",
   "metadata": {},
   "outputs": [],
   "source": [
    "monitor = tof.Detector(distance=15.0 * meter, name='monitor')\n",
    "\n",
    "model.add(monitor)\n",
    "res = model.run()\n",
    "res.plot()"
   ]
  },
  {
   "cell_type": "code",
   "execution_count": null,
   "id": "2f008516-af80-4c55-a6bb-a71a86fa9132",
   "metadata": {},
   "outputs": [],
   "source": [
    "res.detectors['monitor'].plot()"
   ]
  }
 ],
 "metadata": {
  "kernelspec": {
   "display_name": "Python 3 (ipykernel)",
   "language": "python",
   "name": "python3"
  },
  "language_info": {
   "codemirror_mode": {
    "name": "ipython",
    "version": 3
   },
   "file_extension": ".py",
   "mimetype": "text/x-python",
   "name": "python",
   "nbconvert_exporter": "python",
   "pygments_lexer": "ipython3"
  }
 },
 "nbformat": 4,
 "nbformat_minor": 5
}
