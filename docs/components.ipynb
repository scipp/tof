{
 "cells": [
  {
   "cell_type": "markdown",
   "id": "32ad7110-b627-4e52-b014-a70ad3d5193a",
   "metadata": {},
   "source": [
    "# Component guide"
   ]
  },
  {
   "cell_type": "code",
   "execution_count": null,
   "id": "1d69bb0a-4b4d-47c6-9465-318c21e72e7c",
   "metadata": {},
   "outputs": [],
   "source": [
    "import numpy as np\n",
    "import scipp as sc\n",
    "import tof\n",
    "\n",
    "AA = sc.Unit('angstrom')\n",
    "ms = sc.Unit('ms')\n",
    "meter = sc.Unit('m')\n",
    "Hz = sc.Unit('Hz')\n",
    "deg = sc.Unit('deg')"
   ]
  },
  {
   "cell_type": "markdown",
   "id": "0543c13d-847d-4642-8736-14a75ed5fd01",
   "metadata": {},
   "source": [
    "We begin by making a pulse using the profile from ESS."
   ]
  },
  {
   "cell_type": "code",
   "execution_count": null,
   "id": "35b39244-c45b-4bdb-8138-7d0e56a40478",
   "metadata": {},
   "outputs": [],
   "source": [
    "pulse = tof.Pulse.from_facility('ess')\n",
    "pulse.plot()"
   ]
  },
  {
   "cell_type": "code",
   "execution_count": null,
   "id": "e2ced2be-d642-4886-9281-37cd90102c31",
   "metadata": {},
   "outputs": [],
   "source": [
    "detector = tof.Detector(distance=30. * meter)\n",
    "model = tof.Model(pulse=pulse, detectors=[detector])\n",
    "model"
   ]
  },
  {
   "cell_type": "code",
   "execution_count": null,
   "id": "75dd1359-d990-482c-b0d6-4a0ae094b0fc",
   "metadata": {},
   "outputs": [],
   "source": [
    "model.run()\n",
    "model.plot()"
   ]
  },
  {
   "cell_type": "markdown",
   "id": "a2c80ee1-5729-4a09-88c0-3c4e04610772",
   "metadata": {},
   "source": [
    "As expected, the detector sees all the neutrons from the pulse."
   ]
  },
  {
   "cell_type": "code",
   "execution_count": null,
   "id": "112124d4-689b-408a-9be6-de1bef8a6205",
   "metadata": {},
   "outputs": [],
   "source": [
    "detector.plot()"
   ]
  },
  {
   "cell_type": "code",
   "execution_count": null,
   "id": "e7e49cac-affd-4c01-860f-03934bc348e9",
   "metadata": {},
   "outputs": [],
   "source": [
    "chopper1 = tof.Chopper(\n",
    "        frequency=40. * Hz,\n",
    "        open=sc.array(\n",
    "            dims=['cutout'],\n",
    "            values=[60., 150.],\n",
    "            unit='deg',\n",
    "        ),\n",
    "        close=sc.array(\n",
    "            dims=['cutout'],\n",
    "            values=[90.0, 190.0],\n",
    "            unit='deg',\n",
    "        ),\n",
    "        phase=30 * deg,\n",
    "        distance=8 * meter,\n",
    "        name=\"Chopper1\",\n",
    "    )\n",
    "chopper1"
   ]
  },
  {
   "cell_type": "code",
   "execution_count": null,
   "id": "48909c2a-51e8-4532-a8eb-7c7bbba7544d",
   "metadata": {},
   "outputs": [],
   "source": [
    "model.choppers = [chopper1]\n",
    "model.run()\n",
    "model.plot()"
   ]
  },
  {
   "cell_type": "markdown",
   "id": "7ce2e25e-e21f-442b-b729-9b1c7a97893b",
   "metadata": {},
   "source": [
    "We see that the chopper sees all the incoming neutrons, and blocks many of them (gray) to only let though the ones passing through the openings (blue):"
   ]
  },
  {
   "cell_type": "code",
   "execution_count": null,
   "id": "94bc5f13-4e58-4ae4-ba15-86078ab8311d",
   "metadata": {},
   "outputs": [],
   "source": [
    "chopper1.tofs.plot()"
   ]
  },
  {
   "cell_type": "code",
   "execution_count": null,
   "id": "90341882-625a-432d-8625-3d0850403f85",
   "metadata": {},
   "outputs": [],
   "source": [
    "detector.tofs.plot()"
   ]
  },
  {
   "cell_type": "code",
   "execution_count": null,
   "id": "ac5f9697-a2a6-45a8-ad99-af6ad1a60be7",
   "metadata": {},
   "outputs": [],
   "source": [
    "chopper2 = tof.Chopper(\n",
    "        frequency=20. * Hz,\n",
    "        open=sc.array(\n",
    "            dims=['cutout'],\n",
    "            values=[60., 100., 160., 220.],\n",
    "            unit='deg',\n",
    "        ),\n",
    "        close=sc.array(\n",
    "            dims=['cutout'],\n",
    "            values=[90.0, 140.0, 200., 260.],\n",
    "            unit='deg',\n",
    "        ),\n",
    "        phase=60 * deg,\n",
    "        distance=20 * meter,\n",
    "        name=\"Chopper2\",\n",
    "    )\n",
    "\n",
    "model.choppers = [chopper1, chopper2]\n",
    "model.run()\n",
    "model.plot()"
   ]
  },
  {
   "cell_type": "code",
   "execution_count": null,
   "id": "ab11bd09-73ba-4bf8-9b52-e503d77f3f5c",
   "metadata": {},
   "outputs": [],
   "source": [
    "chopper2.plot()"
   ]
  },
  {
   "cell_type": "code",
   "execution_count": null,
   "id": "20349f5e-bfd3-4ccb-bde4-119f3e3d423a",
   "metadata": {},
   "outputs": [],
   "source": [
    "detector.plot()"
   ]
  },
  {
   "cell_type": "code",
   "execution_count": null,
   "id": "1c8bdc32-583a-4c7c-8c6d-34dab8061c6f",
   "metadata": {},
   "outputs": [],
   "source": [
    "monitor = tof.Detector(distance=15.0 * meter, name='monitor')\n",
    "\n",
    "model.detectors = [monitor, detector]\n",
    "model.run()\n",
    "model.plot()"
   ]
  },
  {
   "cell_type": "code",
   "execution_count": null,
   "id": "2f008516-af80-4c55-a6bb-a71a86fa9132",
   "metadata": {},
   "outputs": [],
   "source": [
    "monitor.plot()"
   ]
  }
 ],
 "metadata": {
  "kernelspec": {
   "display_name": "Python 3 (ipykernel)",
   "language": "python",
   "name": "python3"
  },
  "language_info": {
   "codemirror_mode": {
    "name": "ipython",
    "version": 3
   },
   "file_extension": ".py",
   "mimetype": "text/x-python",
   "name": "python",
   "nbconvert_exporter": "python",
   "pygments_lexer": "ipython3",
   "version": "3.9.15"
  }
 },
 "nbformat": 4,
 "nbformat_minor": 5
}
