{
 "cells": [
  {
   "cell_type": "markdown",
   "id": "6b645603-12c0-4b3d-ab3c-529ad4f373e3",
   "metadata": {},
   "source": [
    "# Creating pulses\n",
    "\n",
    "This notebook will illustrate how to create different kinds of pulses for the beamline."
   ]
  },
  {
   "cell_type": "code",
   "execution_count": null,
   "id": "899a245a-0ae7-45dd-b684-3b9d1c034cc6",
   "metadata": {},
   "outputs": [],
   "source": [
    "import numpy as np\n",
    "import scipp as sc\n",
    "import tof\n",
    "\n",
    "AA = sc.Unit('angstrom')\n",
    "ms = sc.Unit('ms')"
   ]
  },
  {
   "cell_type": "markdown",
   "id": "3890d24c-93ab-4faa-b653-c9208b5eba23",
   "metadata": {},
   "source": [
    "## A basic pulse\n",
    "\n",
    "Pulses are characterized by three aspects:\n",
    "\n",
    "- the number of neutrons in the pulse\n",
    "- the time at which each neutron is born inside the pulse\n",
    "- the wavelength of each neutron inside the pulse\n",
    "\n",
    "By default, the time and wavelength distributions of neutrons are both flat (uniform).\n",
    "We then need to define a pulse duration (start and end times) and a wavelength range.\n",
    "\n",
    "To create a pulse with 1M neutrons, uniformly distributed in the ranges of 1-3 ms for birth times,\n",
    "and 1-10 Å for wavelengths, we write:"
   ]
  },
  {
   "cell_type": "code",
   "execution_count": null,
   "id": "a2699065-309c-439c-bcda-bf15d20edd0b",
   "metadata": {},
   "outputs": [],
   "source": [
    "pulse = tof.Pulse(\n",
    "    neutrons=1_000_000, tmin=1.0 * ms, tmax=3.0 * ms, lmin=1.0 * AA, lmax=10.0 * AA\n",
    ")\n",
    "pulse"
   ]
  },
  {
   "cell_type": "markdown",
   "id": "1bf9e593-fb94-4174-b4f1-7cab27b7cf49",
   "metadata": {},
   "source": [
    "To inspect the data in the pulse, we can either look at it `.birth_times` or `.wavelengths` members"
   ]
  },
  {
   "cell_type": "code",
   "execution_count": null,
   "id": "e16ae03f-0bba-4c3a-8ccc-8ebbd8d9dc71",
   "metadata": {},
   "outputs": [],
   "source": [
    "pulse.wavelengths"
   ]
  },
  {
   "cell_type": "markdown",
   "id": "75969bc3-9d28-4aa0-9f0b-7a6eafb3ed93",
   "metadata": {},
   "source": [
    "or we can plot it with"
   ]
  },
  {
   "cell_type": "code",
   "execution_count": null,
   "id": "49fec301-52a4-45a7-9438-b3f736e50b9f",
   "metadata": {},
   "outputs": [],
   "source": [
    "pulse.plot()"
   ]
  },
  {
   "cell_type": "markdown",
   "id": "b1a5ab7b-bd10-4c1a-adb9-c3a9be12c343",
   "metadata": {},
   "source": [
    "## Specifying time and wavelength distributions\n",
    "\n",
    "Pulses at neutron facilities are never flat.\n",
    "To change the time and wavelength distributions of the neutrons in your pulse,\n",
    "you can specify arrays of probabilities.\n",
    "The array values represent the probabilities, while the associated coordinate represent the values to be sampled from.\n",
    "\n",
    "As an example, we create a triangular distribution for the neutron birth times,\n",
    "and a distribution with only 4 possible values for the neutron wavelengths."
   ]
  },
  {
   "cell_type": "code",
   "execution_count": null,
   "id": "b1b80e2e-db09-4e7d-802b-e4e3bdeee341",
   "metadata": {},
   "outputs": [],
   "source": [
    "v = np.arange(30.0)\n",
    "p_time = sc.DataArray(\n",
    "    data=sc.array(dims=['time'], values=np.concatenate([v, v[::-1]])),\n",
    "    coords={'time': sc.linspace('time', 0.1, 6.0, len(v) * 2, unit='ms')},\n",
    ")\n",
    "p_wav = sc.DataArray(\n",
    "    data=sc.array(dims=['wavelength'], values=[1.0, 2.0, 3.0, 4.0]),\n",
    "    coords={\n",
    "        'wavelength': sc.array(\n",
    "            dims=['wavelength'], values=[1.0, 2.0, 3.0, 4.0], unit='angstrom'\n",
    "        )\n",
    "    },\n",
    ")\n",
    "\n",
    "pulse = tof.Pulse.from_distribution(neutrons=200_000, p_time=p_time, p_wav=p_wav)\n",
    "pulse.plot()"
   ]
  },
  {
   "cell_type": "markdown",
   "id": "e735311e-f7a7-4f40-b6b8-73e6388d398e",
   "metadata": {},
   "source": [
    "It is possible to use a finer sampling of the supplied distribution by setting the `sampling` parameter:"
   ]
  },
  {
   "cell_type": "code",
   "execution_count": null,
   "id": "a55c842f-647c-48d9-a3b4-a597ec5a533b",
   "metadata": {},
   "outputs": [],
   "source": [
    "pulse = tof.Pulse.from_distribution(\n",
    "    neutrons=200_000, p_time=p_time, p_wav=p_wav, sampling=10000\n",
    ")\n",
    "pulse.plot()"
   ]
  },
  {
   "cell_type": "markdown",
   "id": "ee407891-e528-4c9e-9c1f-f89d93dd42de",
   "metadata": {},
   "source": [
    "## Using a pre-defined facility pulse\n",
    "\n",
    "Time and wavelength distributions for pulses at neutron facilities can be much more complex than simple mathematical functions.\n",
    "Some pre-defined pulse profiles are available via the `from_facility` method:"
   ]
  },
  {
   "cell_type": "code",
   "execution_count": null,
   "id": "755a9bbb-cb79-42e1-81f5-f803c7d167a6",
   "metadata": {},
   "outputs": [],
   "source": [
    "pulse = tof.Pulse.from_facility('ess', neutrons=1_000_000)\n",
    "pulse.plot()"
   ]
  },
  {
   "cell_type": "markdown",
   "id": "df35d426-223d-46c5-abe3-74d4d373722f",
   "metadata": {},
   "source": [
    "In this case, it is possible to limit the time and wavelength ranges if needed:"
   ]
  },
  {
   "cell_type": "code",
   "execution_count": null,
   "id": "ebc8c4cb-563c-4c8c-b5d9-1a976c770e41",
   "metadata": {},
   "outputs": [],
   "source": [
    "pulse = tof.Pulse.from_facility(\n",
    "    'ess', neutrons=1_000_000, tmax=3.2 * ms, lmax=10.0 * AA\n",
    ")\n",
    "pulse.plot()"
   ]
  },
  {
   "cell_type": "markdown",
   "id": "60077d8d-224d-404a-8768-7b18a973cbb2",
   "metadata": {},
   "source": [
    "## Specifying neutrons manually\n",
    "\n",
    "Finally, it is possible to simply specify a list of birth times and wavelengths manually to create a pulse via the `from_neutrons` method."
   ]
  },
  {
   "cell_type": "code",
   "execution_count": null,
   "id": "43177e0c-652e-4665-a31c-1f7abf2897ee",
   "metadata": {},
   "outputs": [],
   "source": [
    "pulse = tof.Pulse.from_neutrons(\n",
    "    birth_times=sc.array(\n",
    "        dims=['event'],\n",
    "        values=[0.0, 0.1, 0.2, 0.56],\n",
    "        unit='s',\n",
    "    ),\n",
    "    wavelengths=sc.array(dims=['event'], values=[5.0, 8.0, 11.0, 7.1], unit='angstrom'),\n",
    ")\n",
    "pulse.plot()"
   ]
  }
 ],
 "metadata": {
  "kernelspec": {
   "display_name": "Python 3 (ipykernel)",
   "language": "python",
   "name": "python3"
  },
  "language_info": {
   "codemirror_mode": {
    "name": "ipython",
    "version": 3
   },
   "file_extension": ".py",
   "mimetype": "text/x-python",
   "name": "python",
   "nbconvert_exporter": "python",
   "pygments_lexer": "ipython3"
  }
 },
 "nbformat": 4,
 "nbformat_minor": 5
}
