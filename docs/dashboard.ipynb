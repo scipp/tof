{
 "cells": [
  {
   "cell_type": "markdown",
   "id": "6dee8e0a-a7c9-4b84-891d-f2c84fd94275",
   "metadata": {},
   "source": [
    "# Interactive app\n",
    "\n",
    "To launch an interactive dashboard in your notebook that allows you to add choppers and detectors via jupyter widgets,\n",
    "use the following:"
   ]
  },
  {
   "cell_type": "code",
   "execution_count": 1,
   "id": "d1a73ea4-a48a-42a8-9591-1facaa5516a7",
   "metadata": {},
   "outputs": [],
   "source": [
    "%matplotlib widget\n",
    "from tof import app\n",
    "\n",
    "app()"
   ]
  }
 ],
 "metadata": {
  "kernelspec": {
   "display_name": "Python 3 (ipykernel)",
   "language": "python",
   "name": "python3"
  },
  "language_info": {
   "codemirror_mode": {
    "name": "ipython",
    "version": 3
   },
   "file_extension": ".py",
   "mimetype": "text/x-python",
   "name": "python",
   "nbconvert_exporter": "python",
   "pygments_lexer": "ipython3"
  }
 },
 "nbformat": 4,
 "nbformat_minor": 5
}
