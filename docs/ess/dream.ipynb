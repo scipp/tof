{
 "cells": [
  {
   "cell_type": "markdown",
   "id": "0",
   "metadata": {},
   "source": [
    "# DREAM in WFM mode\n",
    "\n",
    "This is a simulation of the DREAM chopper cascade in WFM mode.\n",
    "We also show how one can convert the neutron arrival times at the detector to wavelength."
   ]
  },
  {
   "cell_type": "code",
   "execution_count": null,
   "id": "1",
   "metadata": {},
   "outputs": [],
   "source": [
    "import numpy as np\n",
    "import scipp as sc\n",
    "import plopp as pp\n",
    "import tof\n",
    "\n",
    "Hz = sc.Unit('Hz')\n",
    "deg = sc.Unit('deg')\n",
    "meter = sc.Unit('m')\n",
    "AA = sc.Unit('angstrom')"
   ]
  },
  {
   "cell_type": "markdown",
   "id": "2",
   "metadata": {},
   "source": [
    "## Create a source\n",
    "\n",
    "We first create an ESS source with 2 pulses containing 500,000 neutrons each."
   ]
  },
  {
   "cell_type": "code",
   "execution_count": null,
   "id": "3",
   "metadata": {},
   "outputs": [],
   "source": [
    "source = tof.Source(facility='ess', neutrons=500_000, pulses=2)\n",
    "source.plot()"
   ]
  },
  {
   "cell_type": "markdown",
   "id": "4",
   "metadata": {},
   "source": [
    "## Component set-up\n",
    "\n",
    "## Choppers\n",
    "\n",
    "The DREAM chopper cascade consists of:\n",
    "\n",
    "- Two counter-rotating pulse-shaping choppers (PSC) that are very close to each other, located ~6m from the source\n",
    "- An overlap chopper placed right after the two PSCs\n",
    "- A band control chopper\n",
    "- A T0 chopper"
   ]
  },
  {
   "cell_type": "code",
   "execution_count": null,
   "id": "5",
   "metadata": {},
   "outputs": [],
   "source": [
    "choppers = [\n",
    "    tof.Chopper(\n",
    "        frequency=14 * Hz,\n",
    "        direction=tof.AntiClockwise,\n",
    "        centers=sc.array(\n",
    "            dims=['cutout'],\n",
    "            values=[0, 72, 86.4, 115.2, 172.8, 273.6, 288.0, 302.4],\n",
    "            unit='deg',\n",
    "        ),\n",
    "        widths=sc.array(\n",
    "            dims=['cutout'],\n",
    "            values=[2.46, 3.02, 3.27, 3.27, 5.02, 3.93, 3.93, 2.46],\n",
    "            unit='deg',\n",
    "        ),\n",
    "        phase=(286 - 180) * deg,\n",
    "        distance=6.145 * meter,\n",
    "        name=\"PSC1\",\n",
    "    ),\n",
    "    tof.Chopper(\n",
    "        frequency=14 * Hz,\n",
    "        direction=tof.Clockwise,\n",
    "        centers=sc.array(\n",
    "            dims=['cutout'],\n",
    "            values=[0, 28.8, 57.6, 144, 158.4, 216, 259.2, 316.8],\n",
    "            unit='deg',\n",
    "        ),\n",
    "        widths=sc.array(\n",
    "            dims=['cutout'],\n",
    "            values=[2.46, 3.60, 3.60, 3.23, 3.27, 3.77, 3.94, 2.62],\n",
    "            unit='deg',\n",
    "        ),\n",
    "        phase=236 * deg,\n",
    "        distance=6.155 * meter,\n",
    "        name=\"PSC2\",\n",
    "    ),\n",
    "    tof.Chopper(\n",
    "        frequency=14 * Hz,\n",
    "        direction=tof.AntiClockwise,\n",
    "        centers=sc.array(\n",
    "            dims=['cutout'],\n",
    "            values=[0.0],\n",
    "            unit='deg',\n",
    "        ),\n",
    "        widths=sc.array(\n",
    "            dims=['cutout'],\n",
    "            values=[27.6],\n",
    "            unit='deg',\n",
    "        ),\n",
    "        phase=(297 - 180 - 90) * deg,\n",
    "        distance=6.174 * meter,\n",
    "        name=\"OC\",\n",
    "    ),\n",
    "    tof.Chopper(\n",
    "        frequency=112 * Hz,\n",
    "        direction=tof.AntiClockwise,\n",
    "        centers=sc.array(\n",
    "            dims=['cutout'],\n",
    "            values=[0.0, 180.0],\n",
    "            unit='deg',\n",
    "        ),\n",
    "        widths=sc.array(\n",
    "            dims=['cutout'],\n",
    "            values=[73.75, 73.75],\n",
    "            unit='deg',\n",
    "        ),\n",
    "        phase=(240 - 180) * deg,\n",
    "        distance=9.78 * meter,\n",
    "        name=\"BC\",\n",
    "    ),\n",
    "    tof.Chopper(\n",
    "        frequency=28 * Hz,\n",
    "        direction=tof.AntiClockwise,\n",
    "        centers=sc.array(\n",
    "            dims=['cutout'],\n",
    "            values=[0.0],\n",
    "            unit='deg',\n",
    "        ),\n",
    "        widths=sc.array(\n",
    "            dims=['cutout'],\n",
    "            values=[314.9],\n",
    "            unit='deg',\n",
    "        ),\n",
    "        phase=(280 - 180) * deg,\n",
    "        distance=13.05 * meter,\n",
    "        name=\"T0\",\n",
    "    ),\n",
    "]"
   ]
  },
  {
   "cell_type": "markdown",
   "id": "6",
   "metadata": {},
   "source": [
    "### Detector banks and monitors\n",
    "\n",
    "DREAM has 5 detector banks: the Mantle, two End-caps, a High-resolution detector and a SANS detector.\n",
    "\n",
    "For each detector bank, we use a single mean distance (in practice, one could have a different distance for each pixel)."
   ]
  },
  {
   "cell_type": "code",
   "execution_count": null,
   "id": "7",
   "metadata": {},
   "outputs": [],
   "source": [
    "sample_position = 76.55 * meter\n",
    "\n",
    "detectors = [\n",
    "    tof.Detector(distance=sample_position + 1.125 * meter, name='mantle'),\n",
    "    tof.Detector(distance=sample_position + 1.125 * meter, name='end-cap'),\n",
    "    tof.Detector(distance=sample_position + 2.5 * meter, name='high-resolution'),\n",
    "    tof.Detector(distance=sample_position + 2.5 * meter, name='sans'),\n",
    "]"
   ]
  },
  {
   "cell_type": "markdown",
   "id": "8",
   "metadata": {},
   "source": [
    "## Run the simulation\n",
    "\n",
    "We propagate our pulse of neutrons through the chopper cascade and inspect the results."
   ]
  },
  {
   "cell_type": "code",
   "execution_count": null,
   "id": "9",
   "metadata": {},
   "outputs": [],
   "source": [
    "model = tof.Model(source=source, choppers=choppers, detectors=detectors)\n",
    "results = model.run()\n",
    "results.plot(blocked_rays=5000)"
   ]
  },
  {
   "cell_type": "markdown",
   "id": "10",
   "metadata": {},
   "source": [
    "## Wavelength as a function of time-of-arrival\n",
    "\n",
    "### Plotting wavelength vs time-of-arrival\n",
    "\n",
    "Since we know the true wavelength of our neutrons,\n",
    "as well as the time at which the neutrons arrive at the detector\n",
    "(coordinate named `toa` in the detector reading),\n",
    "we can plot an image of the wavelengths as a function of time-of-arrival:"
   ]
  },
  {
   "cell_type": "code",
   "execution_count": null,
   "id": "11",
   "metadata": {},
   "outputs": [],
   "source": [
    "events = sc.DataGroup()\n",
    "for key, da in results.detectors.items():\n",
    "    bank = da.data.flatten(to='event')\n",
    "    events[key] = bank[~bank.masks['blocked_by_others']]\n",
    "\n",
    "# Histogram and plot\n",
    "events['mantle'].hist(wavelength=500, toa=500).plot(norm='log', grid=True)"
   ]
  },
  {
   "cell_type": "markdown",
   "id": "12",
   "metadata": {},
   "source": [
    "### Defining a conversion from `toa` to `wavelength`\n",
    "\n",
    "The image above shows that there is a pretty tight correlation between time-of-arrival and wavelength.\n",
    "\n",
    "We compute the mean wavelength inside a given `toa` bin to define a relation between `toa` and `wavelength`."
   ]
  },
  {
   "cell_type": "code",
   "execution_count": null,
   "id": "13",
   "metadata": {},
   "outputs": [],
   "source": [
    "binned = events.bin(tof=500)\n",
    "\n",
    "# Weighted mean of wavelength inside each bin\n",
    "mu = sc.DataGroup(\n",
    "    {\n",
    "        key: (da.bins.data * da.bins.coords['wavelength']).bins.sum() / da.bins.sum()\n",
    "        for key, da in binned.items()\n",
    "    }\n",
    ")\n",
    "\n",
    "mu.plot(grid=True)"
   ]
  },
  {
   "cell_type": "markdown",
   "id": "14",
   "metadata": {},
   "source": [
    "## Computing wavelengths\n",
    "\n",
    "We set up an interpolator that will compute wavelengths given an array of `toas`."
   ]
  },
  {
   "cell_type": "code",
   "execution_count": null,
   "id": "15",
   "metadata": {},
   "outputs": [],
   "source": [
    "from scipp.scipy.interpolate import interp1d\n",
    "\n",
    "wavelengths = sc.DataGroup()\n",
    "\n",
    "for key in mu:\n",
    "    # Set up interpolator\n",
    "    y = mu[key].copy()\n",
    "    y.coords['tof'] = sc.midpoints(y.coords['tof'])\n",
    "    f = interp1d(y, 'tof', bounds_error=False)\n",
    "\n",
    "    # Compute wavelengths\n",
    "    wavs = f(events[key].coords['tof'].rename_dims(event='tof'))\n",
    "    wavelengths[key] = sc.DataArray(\n",
    "        data=sc.ones(sizes=wavs.sizes, unit='counts'), coords={'wavelength': wavs.data}\n",
    "    ).rename_dims(tof='event')\n",
    "\n",
    "wavelengths"
   ]
  },
  {
   "cell_type": "markdown",
   "id": "16",
   "metadata": {},
   "source": [
    "We can now compare our computed wavelengths to the true wavelengths of the neutrons."
   ]
  },
  {
   "cell_type": "code",
   "execution_count": null,
   "id": "17",
   "metadata": {},
   "outputs": [],
   "source": [
    "pp.plot(\n",
    "    {\n",
    "        'wfm': wavelengths['mantle'].hist(wavelength=300),\n",
    "        'original': events['mantle'].hist(wavelength=300),\n",
    "    }\n",
    ")"
   ]
  }
 ],
 "metadata": {
  "kernelspec": {
   "display_name": "Python 3 (ipykernel)",
   "language": "python",
   "name": "python3"
  },
  "language_info": {
   "codemirror_mode": {
    "name": "ipython",
    "version": 3
   },
   "file_extension": ".py",
   "mimetype": "text/x-python",
   "name": "python",
   "nbconvert_exporter": "python",
   "pygments_lexer": "ipython3"
  }
 },
 "nbformat": 4,
 "nbformat_minor": 5
}
