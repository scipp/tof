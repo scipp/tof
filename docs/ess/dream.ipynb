{
 "cells": [
  {
   "cell_type": "markdown",
   "id": "2b54cd42-dfc2-4ad7-b9af-b165d5709888",
   "metadata": {},
   "source": [
    "# DREAM WFM choppers with tof\n",
    "\n",
    "Stitching WFM data based on the DREAM instrument chopper system."
   ]
  },
  {
   "cell_type": "code",
   "execution_count": null,
   "id": "69e77a24-0c1b-49dd-855b-0c5b5bbb936e",
   "metadata": {},
   "outputs": [],
   "source": [
    "import numpy as np\n",
    "import scipp as sc\n",
    "import plopp as pp\n",
    "import tof\n",
    "%matplotlib widget\n",
    "\n",
    "Hz = sc.Unit('Hz')\n",
    "deg = sc.Unit('deg')\n",
    "meter = sc.Unit('m')\n",
    "AA = sc.Unit('angstrom')"
   ]
  },
  {
   "cell_type": "markdown",
   "id": "305d1424-637c-4d4a-9d1a-8c4e28102691",
   "metadata": {},
   "source": [
    "## Chopper and detector setup"
   ]
  },
  {
   "cell_type": "code",
   "execution_count": null,
   "id": "317b48bd-a550-4a7c-8419-0cb7414f31f6",
   "metadata": {},
   "outputs": [],
   "source": [
    "choppers = [\n",
    "    tof.Chopper(\n",
    "        frequency=14*Hz,\n",
    "        direction=tof.AntiClockwise,\n",
    "        centers=sc.array(\n",
    "            dims=['cutout'],\n",
    "            values=[0, 72, 86.4, 115.2, 172.8, 273.6, 288.0, 302.4],\n",
    "            unit='deg',\n",
    "        ),\n",
    "        widths=sc.array(\n",
    "            dims=['cutout'],\n",
    "            values=[2.46, 3.02, 3.27, 3.27, 5.02, 3.93, 3.93, 2.46],\n",
    "            unit='deg',\n",
    "        ),\n",
    "        phase=(286-180)*deg,\n",
    "        distance= 6.145*meter, \n",
    "        name=\"PSC1\",\n",
    "    ),\n",
    "    \n",
    "    tof.Chopper(\n",
    "        frequency=14*Hz,\n",
    "        direction=tof.Clockwise,\n",
    "        centers=sc.array(\n",
    "            dims=['cutout'],\n",
    "            values=[0, 28.8, 57.6, 144, 158.4, 216, 259.2, 316.8],\n",
    "            unit='deg',\n",
    "        ),\n",
    "        widths=sc.array(\n",
    "            dims=['cutout'],\n",
    "            values=[2.46, 3.60, 3.60, 3.23, 3.27, 3.77, 3.94, 2.62],\n",
    "            unit='deg',\n",
    "        ),\n",
    "        phase=236*deg,\n",
    "        distance=6.155*meter,\n",
    "        name=\"PSC2\",\n",
    "    ),\n",
    "    \n",
    "    tof.Chopper(\n",
    "        frequency=14*Hz,\n",
    "        direction=tof.AntiClockwise,\n",
    "        centers=sc.array(\n",
    "            dims=['cutout'],\n",
    "            values=[0.],\n",
    "            unit='deg',\n",
    "        ),\n",
    "        widths=sc.array(\n",
    "            dims=['cutout'],\n",
    "            values = [27.6],\n",
    "            unit='deg',\n",
    "        ),\n",
    "        phase=(297-180-90)*deg,\n",
    "        distance=6.174*meter,   \n",
    "        name=\"OC\",\n",
    "    ),\n",
    "    \n",
    "    tof.Chopper(\n",
    "        frequency=112*Hz,\n",
    "        direction=tof.AntiClockwise,\n",
    "        centers=sc.array(\n",
    "            dims=['cutout'],\n",
    "            values=[0., 180.],\n",
    "            unit='deg',\n",
    "        ),\n",
    "        widths=sc.array(\n",
    "            dims=['cutout'],\n",
    "            values=[73.75, 73.75],\n",
    "            unit='deg',\n",
    "        ),\n",
    "        phase=(215-180)*deg,\n",
    "        distance=9.78*meter,\n",
    "        name=\"BC\",\n",
    "    ),\n",
    "    \n",
    "    tof.Chopper(\n",
    "        frequency=28*Hz,\n",
    "        direction=tof.AntiClockwise,\n",
    "        centers=sc.array(\n",
    "            dims=['cutout'],\n",
    "            values=[0.],\n",
    "            unit='deg',\n",
    "        ),\n",
    "        widths=sc.array(\n",
    "            dims=['cutout'],\n",
    "            values=[314.9],\n",
    "            unit='deg',\n",
    "        ),\n",
    "        phase=(280-180)*deg,\n",
    "        distance=13.05*meter,\n",
    "        name=\"T0\",\n",
    "    ),  \n",
    "]\n",
    "\n",
    "detectors = [tof.Detector(distance=(76.55+1.125)*meter, name='detector')]"
   ]
  },
  {
   "cell_type": "markdown",
   "id": "ef117dc8-96d1-4668-8d9b-eca7b637e54a",
   "metadata": {},
   "source": [
    "## Create an ESS source and run the model"
   ]
  },
  {
   "cell_type": "code",
   "execution_count": null,
   "id": "96df2ef5-ef9b-4dcc-a898-771236aa18da",
   "metadata": {},
   "outputs": [],
   "source": [
    "source = tof.Source(facility='ess', neutrons=1_000_000)\n",
    "source.plot()"
   ]
  },
  {
   "cell_type": "code",
   "execution_count": null,
   "id": "3ae419c0-483d-4c1a-86c8-4426d806ff70",
   "metadata": {},
   "outputs": [],
   "source": [
    "model = tof.Model(source=source, choppers=choppers, detectors=detectors)\n",
    "model"
   ]
  },
  {
   "cell_type": "code",
   "execution_count": null,
   "id": "dd365c9a-357f-4d12-9763-88bfbf5d13fa",
   "metadata": {},
   "outputs": [],
   "source": [
    "results = model.run()\n",
    "results"
   ]
  },
  {
   "cell_type": "code",
   "execution_count": null,
   "id": "b99ad0e1-4d8e-41aa-b75a-dc074e6c9b3a",
   "metadata": {},
   "outputs": [],
   "source": [
    "results.plot(blocked_rays=5000)"
   ]
  },
  {
   "cell_type": "code",
   "execution_count": null,
   "id": "e6fdf820-fb80-43e8-995f-e43f049d503b",
   "metadata": {},
   "outputs": [],
   "source": [
    "# Squeeze the pulse dimension since we only have one pulse\n",
    "events = results['detector'].data.squeeze()\n",
    "# Remove the events that don't make it to the detector\n",
    "events = events[~events.masks['blocked_by_others']]\n",
    "# Histogram and plot\n",
    "events.hist(wavelength=500, tof=500).plot(norm='log', grid=True)"
   ]
  },
  {
   "cell_type": "code",
   "execution_count": null,
   "id": "83a4a1d9-ffb9-46b0-843b-88c39f01eefc",
   "metadata": {},
   "outputs": [],
   "source": [
    "binned = events.bin(tof=500)\n",
    "\n",
    "# Weighted mean of wavelength inside each bin\n",
    "mu = (\n",
    "    binned.bins.data * binned.bins.coords['wavelength']\n",
    ").bins.sum() / binned.bins.sum()\n",
    "\n",
    "# Variance of wavelengths inside each bin\n",
    "var = (\n",
    "    binned.bins.data * (binned.bins.coords['wavelength'] - mu) ** 2\n",
    ") / binned.bins.sum()"
   ]
  },
  {
   "cell_type": "code",
   "execution_count": null,
   "id": "138a1f71-af13-4041-afa4-a4e2c3b42e56",
   "metadata": {},
   "outputs": [],
   "source": [
    "mu.plot(grid=True)"
   ]
  },
  {
   "cell_type": "code",
   "execution_count": null,
   "id": "a0e9eee9-b33f-45bc-8c9e-628f35b4605f",
   "metadata": {},
   "outputs": [],
   "source": [
    "stddev = sc.sqrt(var.hist())\n",
    "stddev.plot(grid=True)"
   ]
  },
  {
   "cell_type": "code",
   "execution_count": null,
   "id": "b2fcf62b-2607-4094-8481-bd35473bce22",
   "metadata": {},
   "outputs": [],
   "source": [
    "mu.data = sc.where(stddev.data > 0.02 * AA, np.nan * AA, mu.data)"
   ]
  },
  {
   "cell_type": "code",
   "execution_count": null,
   "id": "9cccd1e5-f4b8-4eb1-b7d8-8f8851fb5a75",
   "metadata": {},
   "outputs": [],
   "source": [
    "# a = stddev.copy()\n",
    "a = sc.where(stddev.data < 0.02 * AA, np.nan * sc.units.us, sc.midpoints(stddev.coords['tof']))\n",
    "a"
   ]
  },
  {
   "cell_type": "code",
   "execution_count": null,
   "id": "3aa921de-e03a-42b2-8f61-441a9bf7b88d",
   "metadata": {},
   "outputs": [],
   "source": [
    "fig = events.hist(wavelength=500, tof=500).plot(norm='log', grid=True)\n",
    "fig.ax.axvspan(a.nanmin().value, a.nanmax().value, alpha=0.3)\n",
    "fig"
   ]
  },
  {
   "cell_type": "code",
   "execution_count": null,
   "id": "dd01c024-dff6-4c4a-b733-7ee26acacdf9",
   "metadata": {},
   "outputs": [],
   "source": [
    "from scipp.scipy.interpolate import interp1d\n",
    "\n",
    "# Set up interpolator\n",
    "y = mu.copy()\n",
    "y.coords['tof'] = sc.midpoints(y.coords['tof'])\n",
    "f = interp1d(y, 'tof', bounds_error=False)\n",
    "\n",
    "# Compute wavelengths\n",
    "wavs = f(events.coords['tof'].rename_dims(event='tof'))\n",
    "wavelengths = sc.DataArray(\n",
    "    data=sc.ones(sizes=wavs.sizes, unit='counts'), coords={'wavelength': wavs.data}\n",
    ").rename_dims(tof='event')\n",
    "wavelengths"
   ]
  },
  {
   "cell_type": "code",
   "execution_count": null,
   "id": "b55d723a-e77e-49f2-a4ae-9d0f8758169c",
   "metadata": {},
   "outputs": [],
   "source": [
    "naive = events.copy()\n",
    "speed = detectors[0].distance / naive.coords['tof']\n",
    "naive.coords['wavelength'] = sc.reciprocal(\n",
    "    speed * sc.constants.m_n / sc.constants.h\n",
    ").to(unit='angstrom')"
   ]
  },
  {
   "cell_type": "code",
   "execution_count": null,
   "id": "5256b1e7-b0b2-464c-889c-0cb14da400b5",
   "metadata": {},
   "outputs": [],
   "source": [
    "pp.plot(\n",
    "    {\n",
    "        'naive': naive.hist(wavelength=300),\n",
    "        'wfm': wavelengths[~sc.isnan(wavelengths.coords['wavelength'])].hist(wavelength=300),\n",
    "        'original': events.hist(wavelength=300),\n",
    "    }\n",
    ")"
   ]
  }
 ],
 "metadata": {
  "kernelspec": {
   "display_name": "Python 3 (ipykernel)",
   "language": "python",
   "name": "python3"
  },
  "language_info": {
   "codemirror_mode": {
    "name": "ipython",
    "version": 3
   },
   "file_extension": ".py",
   "mimetype": "text/x-python",
   "name": "python",
   "nbconvert_exporter": "python",
   "pygments_lexer": "ipython3",
   "version": "3.10.12"
  }
 },
 "nbformat": 4,
 "nbformat_minor": 5
}
