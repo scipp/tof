{
 "cells": [
  {
   "cell_type": "markdown",
   "id": "2b54cd42-dfc2-4ad7-b9af-b165d5709888",
   "metadata": {},
   "source": [
    "# DREAM in WFM mode\n",
    "\n",
    "This is a simulation of the DREAM chopper cascade in WFM mode.\n",
    "We also show how one can convert the neutron arrival times at the detector to wavelength."
   ]
  },
  {
   "cell_type": "code",
   "execution_count": null,
   "id": "69e77a24-0c1b-49dd-855b-0c5b5bbb936e",
   "metadata": {},
   "outputs": [],
   "source": [
    "import numpy as np\n",
    "import scipp as sc\n",
    "import plopp as pp\n",
    "import tof\n",
    "\n",
    "Hz = sc.Unit('Hz')\n",
    "deg = sc.Unit('deg')\n",
    "meter = sc.Unit('m')\n",
    "AA = sc.Unit('angstrom')"
   ]
  },
  {
   "cell_type": "markdown",
   "id": "72a1ba68-dae3-4d61-8313-f8801bb69bb6",
   "metadata": {},
   "source": [
    "## Create a source\n",
    "\n",
    "We first create an ESS source with 2 pulses containing 500,000 neutrons each."
   ]
  },
  {
   "cell_type": "code",
   "execution_count": null,
   "id": "659a8cff-06ab-43f2-9566-c1679e693915",
   "metadata": {},
   "outputs": [],
   "source": [
    "source = tof.Source(facility='ess', neutrons=500_000, pulses=2)\n",
    "source.plot()"
   ]
  },
  {
   "cell_type": "markdown",
   "id": "305d1424-637c-4d4a-9d1a-8c4e28102691",
   "metadata": {},
   "source": [
    "## Component set-up\n",
    "\n",
    "## Choppers\n",
    "\n",
    "The DREAM chopper cascade consists of:\n",
    "\n",
    "- Two counter-rotating pulse-shaping choppers (PSC) that are very close to each other, located ~6m from the source\n",
    "- An overlap chopper placed right after the two PSCs\n",
    "- A band control chopper\n",
    "- A T0 chopper"
   ]
  },
  {
   "cell_type": "code",
   "execution_count": null,
   "id": "0b01dbf4-9f05-4eea-82b4-89c310dbd340",
   "metadata": {},
   "outputs": [],
   "source": [
    "choppers = [\n",
    "    tof.Chopper(\n",
    "        frequency=14*Hz,\n",
    "        direction=tof.AntiClockwise,\n",
    "        centers=sc.array(\n",
    "            dims=['cutout'],\n",
    "            values=[0, 72, 86.4, 115.2, 172.8, 273.6, 288.0, 302.4],\n",
    "            unit='deg',\n",
    "        ),\n",
    "        widths=sc.array(\n",
    "            dims=['cutout'],\n",
    "            values=[2.46, 3.02, 3.27, 3.27, 5.02, 3.93, 3.93, 2.46],\n",
    "            unit='deg',\n",
    "        ),\n",
    "        phase=(286-180)*deg,\n",
    "        distance= 6.145*meter, \n",
    "        name=\"PSC1\",\n",
    "    ),\n",
    "    \n",
    "    tof.Chopper(\n",
    "        frequency=14*Hz,\n",
    "        direction=tof.Clockwise,\n",
    "        centers=sc.array(\n",
    "            dims=['cutout'],\n",
    "            values=[0, 28.8, 57.6, 144, 158.4, 216, 259.2, 316.8],\n",
    "            unit='deg',\n",
    "        ),\n",
    "        widths=sc.array(\n",
    "            dims=['cutout'],\n",
    "            values=[2.46, 3.60, 3.60, 3.23, 3.27, 3.77, 3.94, 2.62],\n",
    "            unit='deg',\n",
    "        ),\n",
    "        phase=236*deg,\n",
    "        distance=6.155*meter,\n",
    "        name=\"PSC2\",\n",
    "    ),\n",
    "    \n",
    "    tof.Chopper(\n",
    "        frequency=14*Hz,\n",
    "        direction=tof.AntiClockwise,\n",
    "        centers=sc.array(\n",
    "            dims=['cutout'],\n",
    "            values=[0.],\n",
    "            unit='deg',\n",
    "        ),\n",
    "        widths=sc.array(\n",
    "            dims=['cutout'],\n",
    "            values = [27.6],\n",
    "            unit='deg',\n",
    "        ),\n",
    "        phase=(297-180-90)*deg,\n",
    "        distance=6.174*meter,   \n",
    "        name=\"OC\",\n",
    "    ),\n",
    "    \n",
    "    tof.Chopper(\n",
    "        frequency=112*Hz,\n",
    "        direction=tof.AntiClockwise,\n",
    "        centers=sc.array(\n",
    "            dims=['cutout'],\n",
    "            values=[0., 180.],\n",
    "            unit='deg',\n",
    "        ),\n",
    "        widths=sc.array(\n",
    "            dims=['cutout'],\n",
    "            values=[73.75, 73.75],\n",
    "            unit='deg',\n",
    "        ),\n",
    "        phase=(240-180)*deg,\n",
    "        # phase=(215-180)*deg,\n",
    "        distance=9.78*meter,\n",
    "        name=\"BC\",\n",
    "    ),\n",
    "    \n",
    "    tof.Chopper(\n",
    "        frequency=28*Hz,\n",
    "        direction=tof.AntiClockwise,\n",
    "        centers=sc.array(\n",
    "            dims=['cutout'],\n",
    "            values=[0.],\n",
    "            unit='deg',\n",
    "        ),\n",
    "        widths=sc.array(\n",
    "            dims=['cutout'],\n",
    "            values=[314.9],\n",
    "            unit='deg',\n",
    "        ),\n",
    "        phase=(280-180)*deg,\n",
    "        distance=13.05*meter,\n",
    "        name=\"T0\",\n",
    "    ),  \n",
    "]"
   ]
  },
  {
   "cell_type": "markdown",
   "id": "ab93843a-0da5-414d-a215-efe3fa78d569",
   "metadata": {},
   "source": [
    "### Detector banks and monitors\n",
    "\n",
    "DREAM has 5 detector banks: the Mantle, two End-caps, a High-resolution detector and a SANS detector."
   ]
  },
  {
   "cell_type": "code",
   "execution_count": null,
   "id": "8a720e32-5fef-41ce-9afe-7415a539a779",
   "metadata": {},
   "outputs": [],
   "source": [
    "sample_position = 76.55 * meter\n",
    "\n",
    "detectors = [\n",
    "    tof.Detector(distance=sample_position + 1.125*meter, name='mantle'),\n",
    "    tof.Detector(distance=sample_position + 1.125*meter, name='end-cap'),\n",
    "    tof.Detector(distance=sample_position + 2.5*meter, name='high-resolution'),\n",
    "    tof.Detector(distance=sample_position + 2.5*meter, name='sans'),\n",
    "]"
   ]
  },
  {
   "cell_type": "markdown",
   "id": "741cd7ae-075b-4a04-b71a-f9c977fab9a8",
   "metadata": {},
   "source": [
    "## Run the simulation\n",
    "\n",
    "We propagate our pulse of neutrons through the chopper cascade and inspect the results."
   ]
  },
  {
   "cell_type": "code",
   "execution_count": null,
   "id": "4de7426f-90be-45da-89ac-5de1a2d3bb6f",
   "metadata": {},
   "outputs": [],
   "source": [
    "model = tof.Model(source=source, choppers=choppers, detectors=detectors)\n",
    "results = model.run()\n",
    "results.plot(blocked_rays=5000)"
   ]
  },
  {
   "cell_type": "markdown",
   "id": "ad7f2d08-a50f-4a19-b65f-5010173bc3b5",
   "metadata": {},
   "source": [
    "## Wavelength as a function of time-of-arrival\n",
    "\n",
    "### Plotting wavelength vs time-of-arrival\n",
    "\n",
    "Since we know the true wavelength of our neutrons,\n",
    "as well as the time at which the neutrons arrive at the detector\n",
    "(coordinate named `toa` in the detector reading),\n",
    "we can plot an image of the wavelengths as a function of time-of-arrival:"
   ]
  },
  {
   "cell_type": "code",
   "execution_count": null,
   "id": "e6fdf820-fb80-43e8-995f-e43f049d503b",
   "metadata": {},
   "outputs": [],
   "source": [
    "# Squeeze the pulse dimension since we only have one pulse\n",
    "events = results['detector'].data.squeeze()\n",
    "# Remove the events that don't make it to the detector\n",
    "events = events[~events.masks['blocked_by_others']]\n",
    "# Histogram and plot\n",
    "events.hist(wavelength=500, tof=500).plot(norm='log', grid=True)"
   ]
  },
  {
   "cell_type": "code",
   "execution_count": null,
   "id": "83a4a1d9-ffb9-46b0-843b-88c39f01eefc",
   "metadata": {},
   "outputs": [],
   "source": [
    "binned = events.bin(tof=500)\n",
    "\n",
    "# Weighted mean of wavelength inside each bin\n",
    "mu = (\n",
    "    binned.bins.data * binned.bins.coords['wavelength']\n",
    ").bins.sum() / binned.bins.sum()\n",
    "\n",
    "# Variance of wavelengths inside each bin\n",
    "var = (\n",
    "    binned.bins.data * (binned.bins.coords['wavelength'] - mu) ** 2\n",
    ") / binned.bins.sum()"
   ]
  },
  {
   "cell_type": "code",
   "execution_count": null,
   "id": "138a1f71-af13-4041-afa4-a4e2c3b42e56",
   "metadata": {},
   "outputs": [],
   "source": [
    "mu.plot(grid=True)"
   ]
  },
  {
   "cell_type": "code",
   "execution_count": null,
   "id": "a0e9eee9-b33f-45bc-8c9e-628f35b4605f",
   "metadata": {},
   "outputs": [],
   "source": [
    "stddev = sc.sqrt(var.hist())\n",
    "stddev.plot(grid=True)"
   ]
  },
  {
   "cell_type": "code",
   "execution_count": null,
   "id": "b2fcf62b-2607-4094-8481-bd35473bce22",
   "metadata": {},
   "outputs": [],
   "source": [
    "mu.data = sc.where(stddev.data > 0.02 * AA, np.nan * AA, mu.data)"
   ]
  },
  {
   "cell_type": "code",
   "execution_count": null,
   "id": "9cccd1e5-f4b8-4eb1-b7d8-8f8851fb5a75",
   "metadata": {},
   "outputs": [],
   "source": [
    "# a = stddev.copy()\n",
    "a = sc.where(stddev.data < 0.02 * AA, np.nan * sc.units.us, sc.midpoints(stddev.coords['tof']))\n",
    "a"
   ]
  },
  {
   "cell_type": "code",
   "execution_count": null,
   "id": "3aa921de-e03a-42b2-8f61-441a9bf7b88d",
   "metadata": {},
   "outputs": [],
   "source": [
    "fig = events.hist(wavelength=500, tof=500).plot(norm='log', grid=True)\n",
    "fig.ax.axvspan(a.nanmin().value, a.nanmax().value, alpha=0.3)\n",
    "fig"
   ]
  },
  {
   "cell_type": "code",
   "execution_count": null,
   "id": "dd01c024-dff6-4c4a-b733-7ee26acacdf9",
   "metadata": {},
   "outputs": [],
   "source": [
    "from scipp.scipy.interpolate import interp1d\n",
    "\n",
    "# Set up interpolator\n",
    "y = mu.copy()\n",
    "y.coords['tof'] = sc.midpoints(y.coords['tof'])\n",
    "f = interp1d(y, 'tof', bounds_error=False)\n",
    "\n",
    "# Compute wavelengths\n",
    "wavs = f(events.coords['tof'].rename_dims(event='tof'))\n",
    "wavelengths = sc.DataArray(\n",
    "    data=sc.ones(sizes=wavs.sizes, unit='counts'), coords={'wavelength': wavs.data}\n",
    ").rename_dims(tof='event')\n",
    "wavelengths"
   ]
  },
  {
   "cell_type": "code",
   "execution_count": null,
   "id": "b55d723a-e77e-49f2-a4ae-9d0f8758169c",
   "metadata": {},
   "outputs": [],
   "source": [
    "naive = events.copy()\n",
    "speed = detectors[0].distance / naive.coords['tof']\n",
    "naive.coords['wavelength'] = sc.reciprocal(\n",
    "    speed * sc.constants.m_n / sc.constants.h\n",
    ").to(unit='angstrom')"
   ]
  },
  {
   "cell_type": "code",
   "execution_count": null,
   "id": "5256b1e7-b0b2-464c-889c-0cb14da400b5",
   "metadata": {},
   "outputs": [],
   "source": [
    "pp.plot(\n",
    "    {\n",
    "        'naive': naive.hist(wavelength=300),\n",
    "        'wfm': wavelengths[~sc.isnan(wavelengths.coords['wavelength'])].hist(wavelength=300),\n",
    "        'original': events.hist(wavelength=300),\n",
    "    }\n",
    ")"
   ]
  },
  {
   "cell_type": "code",
   "execution_count": null,
   "id": "5fb027bb-5dd7-4fea-8e1e-e8f6b24633d8",
   "metadata": {},
   "outputs": [],
   "source": []
  }
 ],
 "metadata": {
  "kernelspec": {
   "display_name": "Python 3 (ipykernel)",
   "language": "python",
   "name": "python3"
  },
  "language_info": {
   "codemirror_mode": {
    "name": "ipython",
    "version": 3
   },
   "file_extension": ".py",
   "mimetype": "text/x-python",
   "name": "python",
   "nbconvert_exporter": "python",
   "pygments_lexer": "ipython3",
   "version": "3.11.9"
  }
 },
 "nbformat": 4,
 "nbformat_minor": 5
}
