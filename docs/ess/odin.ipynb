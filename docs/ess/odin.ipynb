{
 "cells": [
  {
   "cell_type": "markdown",
   "id": "0",
   "metadata": {},
   "source": [
    "# ODIN in WFM mode\n",
    "\n",
    "This is a simulation of the ODIN chopper cascade in WFM mode.\n",
    "We also show how one can convert the neutron arrival times at the detector to wavelength."
   ]
  },
  {
   "cell_type": "code",
   "execution_count": null,
   "id": "1",
   "metadata": {},
   "outputs": [],
   "source": [
    "import scipp as sc\n",
    "import plopp as pp\n",
    "import tof"
   ]
  },
  {
   "cell_type": "markdown",
   "id": "2",
   "metadata": {},
   "source": [
    "## Create a source pulse\n",
    "\n",
    "We first create a source with 4 pulses containing 500,000 neutrons each,\n",
    "and whose distribution follows the ESS time and wavelength profiles (both thermal and cold neutrons are included)."
   ]
  },
  {
   "cell_type": "code",
   "execution_count": null,
   "id": "3",
   "metadata": {},
   "outputs": [],
   "source": [
    "source = tof.Source(facility=\"ess\", neutrons=500_000, pulses=4)\n",
    "source.plot()"
   ]
  },
  {
   "cell_type": "markdown",
   "id": "4",
   "metadata": {},
   "source": [
    "## Component set-up\n",
    "\n",
    "The ODIN chopper cascade consists of:\n",
    "\n",
    "- 2 WFM choppers\n",
    "- 5 frame-overlap choppers\n",
    "- 2 band-control choppers\n",
    "- 1 T0 chopper\n",
    "\n",
    "It also has a single detector panel 60.5 meters from the source.\n",
    "\n",
    "These component parameters are pre-configured in `tof.facilities.ess`.\n",
    "Here we select the configuration in pulse-skipping mode:"
   ]
  },
  {
   "cell_type": "code",
   "execution_count": null,
   "id": "5",
   "metadata": {},
   "outputs": [],
   "source": [
    "odin_params = tof.facilities.ess.odin(pulse_skipping=True)\n",
    "odin_params"
   ]
  },
  {
   "cell_type": "markdown",
   "id": "6",
   "metadata": {},
   "source": [
    "## Run the simulation\n",
    "\n",
    "We propagate our pulse of neutrons through the chopper cascade and inspect the results."
   ]
  },
  {
   "cell_type": "code",
   "execution_count": null,
   "id": "7",
   "metadata": {},
   "outputs": [],
   "source": [
    "model = tof.Model(source=source, **odin_params)\n",
    "results = model.run()\n",
    "results.plot(blocked_rays=5000)"
   ]
  },
  {
   "cell_type": "markdown",
   "id": "8",
   "metadata": {},
   "source": [
    "We can see that the chopper cascade is implementing WFM and pulse-skipping at the same time!\n",
    "\n",
    "## Wavelength as a function of time-of-arrival\n",
    "\n",
    "### Plotting wavelength vs time-of-arrival\n",
    "\n",
    "Since we know the true wavelength of our neutrons,\n",
    "as well as the time at which the neutrons arrive at the detector\n",
    "(coordinate named `toa` in the detector reading),\n",
    "we can plot an image of the wavelengths as a function of time-of-arrival:"
   ]
  },
  {
   "cell_type": "code",
   "execution_count": null,
   "id": "9",
   "metadata": {},
   "outputs": [],
   "source": [
    "# Squeeze the pulse dimension since we only have one pulse\n",
    "events = results['detector'].data.flatten(to='event')\n",
    "# Remove the events that don't make it to the detector\n",
    "events = events[~events.masks['blocked_by_others']]\n",
    "# Histogram and plot\n",
    "events.hist(wavelength=500, toa=500).plot(norm='log', grid=True)"
   ]
  },
  {
   "cell_type": "markdown",
   "id": "10",
   "metadata": {},
   "source": [
    "### Defining a conversion from `toa` to `wavelength`\n",
    "\n",
    "The image above shows that there is a pretty tight correlation between time-of-arrival and wavelength.\n",
    "\n",
    "We compute the mean wavelength inside a given `toa` bin to define a relation between `toa` and `wavelength`."
   ]
  },
  {
   "cell_type": "code",
   "execution_count": null,
   "id": "11",
   "metadata": {},
   "outputs": [],
   "source": [
    "binned = events.bin(toa=500)\n",
    "\n",
    "# Weighted mean of wavelength inside each bin\n",
    "mu = (\n",
    "    binned.bins.data * binned.bins.coords['wavelength']\n",
    ").bins.sum() / binned.bins.sum()\n",
    "\n",
    "# Variance of wavelengths inside each bin\n",
    "var = (\n",
    "    binned.bins.data * (binned.bins.coords['wavelength'] - mu) ** 2\n",
    ") / binned.bins.sum()"
   ]
  },
  {
   "cell_type": "markdown",
   "id": "12",
   "metadata": {},
   "source": [
    "We can now overlay our mean wavelength function on the image above:"
   ]
  },
  {
   "cell_type": "code",
   "execution_count": null,
   "id": "13",
   "metadata": {},
   "outputs": [],
   "source": [
    "import matplotlib.pyplot as plt\n",
    "\n",
    "fig, ax = plt.subplots(2, 1)\n",
    "\n",
    "f = events.hist(wavelength=500, tof=500).plot(norm='log', cbar=False, ax=ax[0])\n",
    "mu.name = 'Wavelength'\n",
    "mu.plot(ax=ax[0], color='C1', grid=True)\n",
    "stddev = sc.sqrt(var.hist())\n",
    "stddev.name = 'Standard deviation'\n",
    "stddev.plot(ax=ax[1], grid=True)\n",
    "fig.set_size_inches(6, 8)\n",
    "fig.tight_layout()"
   ]
  },
  {
   "cell_type": "markdown",
   "id": "14",
   "metadata": {},
   "source": [
    "## Computing wavelengths\n",
    "\n",
    "We set up an interpolator that will compute wavelengths given an array of `toas`."
   ]
  },
  {
   "cell_type": "code",
   "execution_count": null,
   "id": "15",
   "metadata": {},
   "outputs": [],
   "source": [
    "from scipp.scipy.interpolate import interp1d\n",
    "\n",
    "# Set up interpolator\n",
    "y = mu.copy()\n",
    "y.coords['toa'] = sc.midpoints(y.coords['toa'])\n",
    "f = interp1d(y, 'toa', bounds_error=False)\n",
    "\n",
    "# Compute wavelengths\n",
    "wavs = f(events.coords['toa'].rename_dims(event='toa'))\n",
    "wavelengths = sc.DataArray(\n",
    "    data=sc.ones(sizes=wavs.sizes, unit='counts'), coords={'wavelength': wavs.data}\n",
    ").rename_dims(toa='event')\n",
    "wavelengths"
   ]
  },
  {
   "cell_type": "markdown",
   "id": "16",
   "metadata": {},
   "source": [
    "We can now compare our computed wavelengths to the true wavelengths of the neutrons:"
   ]
  },
  {
   "cell_type": "code",
   "execution_count": null,
   "id": "17",
   "metadata": {},
   "outputs": [],
   "source": [
    "pp.plot(\n",
    "    {\n",
    "        'wfm': wavelengths.hist(wavelength=300),\n",
    "        'original': events.hist(wavelength=300),\n",
    "    }\n",
    ")"
   ]
  }
 ],
 "metadata": {
  "kernelspec": {
   "display_name": "Python 3 (ipykernel)",
   "language": "python",
   "name": "python3"
  },
  "language_info": {
   "codemirror_mode": {
    "name": "ipython",
    "version": 3
   },
   "file_extension": ".py",
   "mimetype": "text/x-python",
   "name": "python",
   "nbconvert_exporter": "python",
   "pygments_lexer": "ipython3",
   "version": "3.12.7"
  }
 },
 "nbformat": 4,
 "nbformat_minor": 5
}
