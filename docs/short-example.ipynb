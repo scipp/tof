{
 "cells": [
  {
   "cell_type": "markdown",
   "id": "6b645603-12c0-4b3d-ab3c-529ad4f373e3",
   "metadata": {},
   "source": [
    "# A short example\n",
    "\n",
    "This notebook is a short example on how to use the `tof` package for making time-of-light diagrams of neutrons passing through a chopper cascade."
   ]
  },
  {
   "cell_type": "code",
   "execution_count": null,
   "id": "899a245a-0ae7-45dd-b684-3b9d1c034cc6",
   "metadata": {},
   "outputs": [],
   "source": [
    "import scipp as sc\n",
    "import tof\n",
    "\n",
    "Hz = sc.Unit('Hz')\n",
    "deg = sc.Unit('deg')\n",
    "meter = sc.Unit('m')"
   ]
  },
  {
   "cell_type": "markdown",
   "id": "3890d24c-93ab-4faa-b653-c9208b5eba23",
   "metadata": {},
   "source": [
    "## Create a pulse\n",
    "\n",
    "We first create a pulse with 1M neutrons whose distribution follows the ESS time and wavelength profiles (both thermal and cold neutrons are included)."
   ]
  },
  {
   "cell_type": "code",
   "execution_count": null,
   "id": "a2699065-309c-439c-bcda-bf15d20edd0b",
   "metadata": {},
   "outputs": [],
   "source": [
    "pulse = tof.Pulse(facility='ess', neutrons=1_000_000)\n",
    "pulse"
   ]
  },
  {
   "cell_type": "code",
   "execution_count": null,
   "id": "49fec301-52a4-45a7-9438-b3f736e50b9f",
   "metadata": {},
   "outputs": [],
   "source": [
    "pulse.plot()"
   ]
  },
  {
   "cell_type": "markdown",
   "id": "b5ffdab6-10cd-4719-8ff2-86e5e1d10571",
   "metadata": {},
   "source": [
    "## Chopper set-up\n",
    "\n",
    "We create a list of choppers that will be included in our beamline.\n",
    "In our case, we make two WFM choppers, and two frame-overlap choppers.\n",
    "All choppers have 6 openings."
   ]
  },
  {
   "cell_type": "code",
   "execution_count": null,
   "id": "34314bcc-978c-468c-b5a1-d84ce33e53d5",
   "metadata": {},
   "outputs": [],
   "source": [
    "choppers = [\n",
    "    tof.Chopper(\n",
    "        frequency=70.0 * Hz,\n",
    "        open=sc.array(\n",
    "            dims=['cutout'],\n",
    "            values=[98.71, 155.49, 208.26, 257.32, 302.91, 345.3],\n",
    "            unit='deg',\n",
    "        ),\n",
    "        close=sc.array(\n",
    "            dims=['cutout'],\n",
    "            values=[109.7, 170.79, 227.56, 280.33, 329.37, 375.0],\n",
    "            unit='deg',\n",
    "        ),\n",
    "        phase=47.10 * deg,\n",
    "        distance=6.6 * meter,\n",
    "        name=\"WFM1\",\n",
    "    ),\n",
    "    tof.Chopper(\n",
    "        frequency=70 * Hz,\n",
    "        open=sc.array(\n",
    "            dims=['cutout'],\n",
    "            values=[80.04, 141.1, 197.88, 250.67, 299.73, 345.0],\n",
    "            unit='deg',\n",
    "        ),\n",
    "        close=sc.array(\n",
    "            dims=['cutout'],\n",
    "            values=[91.03, 156.4, 217.18, 269.97, 322.74, 375.0],\n",
    "            unit='deg',\n",
    "        ),\n",
    "        phase=76.76 * deg,\n",
    "        distance=7.1 * meter,\n",
    "        name=\"WFM2\",\n",
    "    ),\n",
    "    tof.Chopper(\n",
    "        frequency=56 * Hz,\n",
    "        open=sc.array(\n",
    "            dims=['cutout'],\n",
    "            values=[74.6, 139.6, 194.3, 245.3, 294.8, 347.2],\n",
    "            unit='deg',\n",
    "        ),\n",
    "        close=sc.array(\n",
    "            dims=['cutout'],\n",
    "            values=[95.2, 162.8, 216.1, 263.1, 310.5, 371.6],\n",
    "            unit='deg',\n",
    "        ),\n",
    "        phase=62.40 * deg,\n",
    "        distance=8.8 * meter,\n",
    "        name=\"Frame-overlap 1\",\n",
    "    ),\n",
    "    tof.Chopper(\n",
    "        frequency=28 * Hz,\n",
    "        open=sc.array(\n",
    "            dims=['cutout'],\n",
    "            values=[98.0, 154.0, 206.8, 254.0, 299.0, 344.65],\n",
    "            unit='deg',\n",
    "        ),\n",
    "        close=sc.array(\n",
    "            dims=['cutout'],\n",
    "            values=[134.6, 190.06, 237.01, 280.88, 323.56, 373.76],\n",
    "            unit='deg',\n",
    "        ),\n",
    "        phase=12.27 * deg,\n",
    "        distance=15.9 * meter,\n",
    "        name=\"Frame-overlap 2\",\n",
    "    ),\n",
    "    tof.Chopper(\n",
    "        frequency=7 * Hz,\n",
    "        open=sc.array(\n",
    "            dims=['cutout'],\n",
    "            values=[30.],\n",
    "            unit='deg',\n",
    "        ),\n",
    "        close=sc.array(\n",
    "            dims=['cutout'],\n",
    "            values=[140.],\n",
    "            unit='deg',\n",
    "        ),\n",
    "        phase=0 * deg,\n",
    "        distance=22 * meter,\n",
    "        name=\"Pulse-overlap\",\n",
    "    ),\n",
    "]"
   ]
  },
  {
   "cell_type": "markdown",
   "id": "bd6e1399-7f05-4d5c-83e3-7d249d9e0a61",
   "metadata": {},
   "source": [
    "## Detector set-up\n",
    "\n",
    "We add a monitor 23m from the source, and a main detector 32m from the source."
   ]
  },
  {
   "cell_type": "code",
   "execution_count": null,
   "id": "a377e75c-51a5-4994-af9c-92139d27bee3",
   "metadata": {},
   "outputs": [],
   "source": [
    "detectors = [\n",
    "    tof.Detector(distance=26.0 * meter, name='monitor'),\n",
    "    tof.Detector(distance=32.0 * meter, name='detector'),\n",
    "]"
   ]
  },
  {
   "cell_type": "markdown",
   "id": "4c3b69b7-5ebe-4188-aa4b-2c6621ec8017",
   "metadata": {},
   "source": [
    "## Run the model\n",
    "\n",
    "We combine the `pulse`, `choppers`, and `detectors` into our `model`,\n",
    "and then use the `.run()` method to execute the ray-tracing simulation."
   ]
  },
  {
   "cell_type": "code",
   "execution_count": null,
   "id": "05c191a2-81ef-41d3-8f64-343f72d7555d",
   "metadata": {},
   "outputs": [],
   "source": [
    "model = tof.Model(choppers=choppers, pulse=pulse, detectors=detectors)\n",
    "model"
   ]
  },
  {
   "cell_type": "code",
   "execution_count": null,
   "id": "9a2d019b-5c0d-4bf1-8b38-3ed18f6f687c",
   "metadata": {},
   "outputs": [],
   "source": [
    "res = model.run()\n",
    "res"
   ]
  },
  {
   "cell_type": "markdown",
   "id": "02212233-58b6-44cb-bb76-6f3b552942db",
   "metadata": {},
   "source": [
    "## Results\n",
    "\n",
    "### Plotting\n",
    "\n",
    "We can plot the models as a whole (which will show the ray paths through the system),\n",
    "and the individual components (which will show the counts each component is seeing)."
   ]
  },
  {
   "cell_type": "code",
   "execution_count": null,
   "id": "7eea136a-4c5f-420c-8fd5-1cdc64be939f",
   "metadata": {},
   "outputs": [],
   "source": [
    "res.plot(max_rays=5000)"
   ]
  },
  {
   "cell_type": "code",
   "execution_count": null,
   "id": "95df472c-bc86-41b7-87f3-a1b8455e8fbc",
   "metadata": {},
   "outputs": [],
   "source": [
    "res.detectors['monitor'].tofs.plot()"
   ]
  },
  {
   "cell_type": "code",
   "execution_count": null,
   "id": "e21c1906-84b4-4055-9761-0f4df56b7ed1",
   "metadata": {},
   "outputs": [],
   "source": [
    "res.choppers[\"Frame-overlap 2\"].tofs.plot()"
   ]
  },
  {
   "cell_type": "markdown",
   "id": "3d2fbae9-1480-4a29-93ab-4d18a09dd64e",
   "metadata": {},
   "source": [
    "### Data inspection\n",
    "\n",
    "Each component entry in the results objects holds all the information about the neutrons that reached that component.\n",
    "The `.data` property of the object returns a data group"
   ]
  },
  {
   "cell_type": "code",
   "execution_count": null,
   "id": "72fce589-389d-4597-997c-9cde65a6f6be",
   "metadata": {},
   "outputs": [],
   "source": [
    "res.choppers['WFM1'].data"
   ]
  },
  {
   "cell_type": "markdown",
   "id": "9b01bb60-da73-442c-a734-36d455375b8d",
   "metadata": {},
   "source": [
    "The `.tofs`, `.wavelengths`, `.birth_times`, and `.speeds` properties of the beamline components return a proxy object,\n",
    "which gives access to the data they hold.\n",
    "\n",
    "Accessing their `.data` returns a data group with both visible and blocked neutrons:"
   ]
  },
  {
   "cell_type": "code",
   "execution_count": null,
   "id": "5ad98bcb-6181-4c54-949e-e61a412e1c31",
   "metadata": {},
   "outputs": [],
   "source": [
    "res.choppers['WFM1'].tofs.data"
   ]
  },
  {
   "cell_type": "markdown",
   "id": "ee85b045-19f6-448a-ac0d-73ee75690a72",
   "metadata": {},
   "source": [
    "To inspect individual components, one can for example use the `.data` property of the `.visible` accessor"
   ]
  },
  {
   "cell_type": "code",
   "execution_count": null,
   "id": "a8cb6b72-f98c-4497-8872-941b0fd19a0b",
   "metadata": {},
   "outputs": [],
   "source": [
    "res.choppers['WFM1'].tofs.visible.data"
   ]
  },
  {
   "cell_type": "markdown",
   "id": "abc519bb-cb22-4169-97f2-2cc2be21ec48",
   "metadata": {},
   "source": [
    "As these are Scipp data structures, they can be manipulated and plotted directly:"
   ]
  },
  {
   "cell_type": "code",
   "execution_count": null,
   "id": "72e46653-6ea5-45aa-9ca9-cbdb7fa3c88c",
   "metadata": {},
   "outputs": [],
   "source": [
    "res.choppers['WFM1'].wavelengths.data.hist(wavelength=300).plot()"
   ]
  }
 ],
 "metadata": {
  "kernelspec": {
   "display_name": "Python 3 (ipykernel)",
   "language": "python",
   "name": "python3"
  },
  "language_info": {
   "codemirror_mode": {
    "name": "ipython",
    "version": 3
   },
   "file_extension": ".py",
   "mimetype": "text/x-python",
   "name": "python",
   "nbconvert_exporter": "python",
   "pygments_lexer": "ipython3"
  }
 },
 "nbformat": 4,
 "nbformat_minor": 5
}
