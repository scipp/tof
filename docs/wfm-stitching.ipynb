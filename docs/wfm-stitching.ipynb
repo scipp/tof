{
 "cells": [
  {
   "cell_type": "markdown",
   "id": "6b645603-12c0-4b3d-ab3c-529ad4f373e3",
   "metadata": {},
   "source": [
    "# Stitching WFM data\n",
    "\n",
    "Wavelength-frame-multiplication (WFM) is a technique commonly used at long-pulse facilities to improve the resolution of the results measured at the neutron detectors.\n",
    "See for example the article by [Schmakat et al. (2020)](https://www.sciencedirect.com/science/article/pii/S0168900220308640) for a description of how WFM works.\n",
    "\n",
    "In this notebook, we show how `tof` can be used to find the boundaries of the WFM frames, and apply a time correction to each frame,\n",
    "in order to obtain more accurate wavelengths."
   ]
  },
  {
   "cell_type": "code",
   "execution_count": null,
   "id": "899a245a-0ae7-45dd-b684-3b9d1c034cc6",
   "metadata": {},
   "outputs": [],
   "source": [
    "import numpy as np\n",
    "import scipp as sc\n",
    "from scippneutron.conversion.graph.beamline import beamline\n",
    "from scippneutron.conversion.graph.tof import elastic\n",
    "import plopp as pp\n",
    "import tof\n",
    "\n",
    "Hz = sc.Unit(\"Hz\")\n",
    "deg = sc.Unit(\"deg\")\n",
    "meter = sc.Unit(\"m\")"
   ]
  },
  {
   "cell_type": "markdown",
   "id": "3890d24c-93ab-4faa-b653-c9208b5eba23",
   "metadata": {},
   "source": [
    "## Create a source pulse\n",
    "\n",
    "We first create a source with one pulse containing 500,000 neutrons whose distribution follows the ESS time and wavelength profiles (both thermal and cold neutrons are included)."
   ]
  },
  {
   "cell_type": "code",
   "execution_count": null,
   "id": "872800a5-4cf7-424e-8d2d-0db81292456c",
   "metadata": {},
   "outputs": [],
   "source": [
    "source = tof.Source(facility=\"ess\", neutrons=500_000)\n",
    "source.plot()"
   ]
  },
  {
   "cell_type": "code",
   "execution_count": null,
   "id": "3b39e97a-d6d7-4e75-8095-f7b0206a1bd0",
   "metadata": {},
   "outputs": [],
   "source": [
    "source.data"
   ]
  },
  {
   "cell_type": "markdown",
   "id": "b5ffdab6-10cd-4719-8ff2-86e5e1d10571",
   "metadata": {},
   "source": [
    "## Chopper set-up\n",
    "\n",
    "We create a list of choppers that will be included in our beamline.\n",
    "In our case, we make two WFM choppers, and two frame-overlap choppers.\n",
    "All choppers have 6 openings.\n",
    "\n",
    "Finally, we also add a pulse-overlap chopper with a single opening.\n",
    "These choppers are copied after the [V20 ESS beamline at HZB](https://www.sciencedirect.com/science/article/pii/S0168900216309597)."
   ]
  },
  {
   "cell_type": "code",
   "execution_count": null,
   "id": "34314bcc-978c-468c-b5a1-d84ce33e53d5",
   "metadata": {},
   "outputs": [],
   "source": [
    "choppers = [\n",
    "    tof.Chopper(\n",
    "        frequency=70.0 * Hz,\n",
    "        open=sc.array(\n",
    "            dims=[\"cutout\"],\n",
    "            values=[98.71, 155.49, 208.26, 257.32, 302.91, 345.3],\n",
    "            unit=\"deg\",\n",
    "        ),\n",
    "        close=sc.array(\n",
    "            dims=[\"cutout\"],\n",
    "            values=[109.7, 170.79, 227.56, 280.33, 329.37, 375.0],\n",
    "            unit=\"deg\",\n",
    "        ),\n",
    "        phase=47.10 * deg,\n",
    "        distance=6.6 * meter,\n",
    "        name=\"WFM1\",\n",
    "    ),\n",
    "    tof.Chopper(\n",
    "        frequency=70 * Hz,\n",
    "        open=sc.array(\n",
    "            dims=[\"cutout\"],\n",
    "            values=[80.04, 141.1, 197.88, 250.67, 299.73, 345.0],\n",
    "            unit=\"deg\",\n",
    "        ),\n",
    "        close=sc.array(\n",
    "            dims=[\"cutout\"],\n",
    "            values=[91.03, 156.4, 217.18, 269.97, 322.74, 375.0],\n",
    "            unit=\"deg\",\n",
    "        ),\n",
    "        phase=76.76 * deg,\n",
    "        distance=7.1 * meter,\n",
    "        name=\"WFM2\",\n",
    "    ),\n",
    "    tof.Chopper(\n",
    "        frequency=56 * Hz,\n",
    "        open=sc.array(\n",
    "            dims=[\"cutout\"],\n",
    "            values=[74.6, 139.6, 194.3, 245.3, 294.8, 347.2],\n",
    "            unit=\"deg\",\n",
    "        ),\n",
    "        close=sc.array(\n",
    "            dims=[\"cutout\"],\n",
    "            values=[95.2, 162.8, 216.1, 263.1, 310.5, 371.6],\n",
    "            unit=\"deg\",\n",
    "        ),\n",
    "        phase=62.40 * deg,\n",
    "        distance=8.8 * meter,\n",
    "        name=\"Frame-overlap 1\",\n",
    "    ),\n",
    "    tof.Chopper(\n",
    "        frequency=28 * Hz,\n",
    "        open=sc.array(\n",
    "            dims=[\"cutout\"],\n",
    "            values=[98.0, 154.0, 206.8, 254.0, 299.0, 344.65],\n",
    "            unit=\"deg\",\n",
    "        ),\n",
    "        close=sc.array(\n",
    "            dims=[\"cutout\"],\n",
    "            values=[134.6, 190.06, 237.01, 280.88, 323.56, 373.76],\n",
    "            unit=\"deg\",\n",
    "        ),\n",
    "        phase=12.27 * deg,\n",
    "        distance=15.9 * meter,\n",
    "        name=\"Frame-overlap 2\",\n",
    "    ),\n",
    "    tof.Chopper(\n",
    "        frequency=7 * Hz,\n",
    "        open=sc.array(\n",
    "            dims=[\"cutout\"],\n",
    "            values=[30.0],\n",
    "            unit=\"deg\",\n",
    "        ),\n",
    "        close=sc.array(\n",
    "            dims=[\"cutout\"],\n",
    "            values=[140.0],\n",
    "            unit=\"deg\",\n",
    "        ),\n",
    "        phase=0 * deg,\n",
    "        distance=22 * meter,\n",
    "        name=\"Pulse-overlap\",\n",
    "    ),\n",
    "]"
   ]
  },
  {
   "cell_type": "markdown",
   "id": "bd6e1399-7f05-4d5c-83e3-7d249d9e0a61",
   "metadata": {},
   "source": [
    "## Detector set-up\n",
    "\n",
    "We add a detector 32 meters from the source."
   ]
  },
  {
   "cell_type": "code",
   "execution_count": null,
   "id": "a377e75c-51a5-4994-af9c-92139d27bee3",
   "metadata": {},
   "outputs": [],
   "source": [
    "detectors = [\n",
    "    tof.Detector(distance=L * meter, name=f\"detector{i}\")\n",
    "    for i, L in enumerate(np.linspace(33, 37, 100))\n",
    "]"
   ]
  },
  {
   "cell_type": "markdown",
   "id": "4deb2f50-92b7-4838-b180-17e3ce43743d",
   "metadata": {},
   "source": [
    "## Run the simulation\n",
    "\n",
    "We propagate our pulse of neutrons through the chopper cascade and inspect the results."
   ]
  },
  {
   "cell_type": "code",
   "execution_count": null,
   "id": "e5812eda-2e56-4f72-89bc-4e778046243f",
   "metadata": {},
   "outputs": [],
   "source": [
    "model = tof.Model(source=source, choppers=choppers, detectors=detectors)\n",
    "full_beamline_results = model.run()\n",
    "full_beamline_results.plot(blocked_rays=5000)"
   ]
  },
  {
   "cell_type": "code",
   "execution_count": null,
   "id": "0de3d295-5e38-4ab2-b8af-601e47b42f19",
   "metadata": {},
   "outputs": [],
   "source": [
    "full_beamline_results['detector'].plot()"
   ]
  },
  {
   "cell_type": "markdown",
   "id": "fcb52d39-56d6-4cfb-8bcd-be9f45f4cc70",
   "metadata": {},
   "source": [
    "## Find WFM frame edges\n",
    "\n",
    "To compute the frame edges, we use one of the openings in the WFM choppers at a time,\n",
    "run the `tof` simulation, and find the min and max tof of the neutrons that make it through the chopper cascade.\n",
    "\n",
    "### Finding the fastest and slowest neutrons\n",
    "\n",
    "To find the range of chopper open and close times relevant to this pulse,\n",
    "we find the times at which the slowest and fastest neutrons went through the two WFM choppers.\n",
    "\n",
    "This will then be used to select the correct chopper openings to compute the WFM time corrections before converting flight times to wavelengths."
   ]
  },
  {
   "cell_type": "code",
   "execution_count": null,
   "id": "c4f98281-d4f6-4ed4-8a24-adf8ae2a22c6",
   "metadata": {},
   "outputs": [],
   "source": [
    "# Get the neutrons that make it to the detector\n",
    "da = full_beamline_results['detector'].data.squeeze()\n",
    "visible = da[~da.masks['blocked_by_others']]\n",
    "\n",
    "# Find fastest and slowest neutrons\n",
    "id_fast = visible[np.argmin(visible.coords['tof'])].coords['id']\n",
    "id_slow = visible[np.argmax(visible.coords['tof'])].coords['id']\n",
    "\n",
    "# Compute the times when those neutrons crossed the WFM choppers\n",
    "tfast = {}\n",
    "tslow = {}\n",
    "for key in (\"WFM1\", \"WFM2\"):\n",
    "    data = full_beamline_results[key].data.squeeze()\n",
    "    tfast[key] = data['id', id_fast].coords['tof']\n",
    "    tslow[key] = data['id', id_slow].coords['tof']\n",
    "\n",
    "tfast, tslow"
   ]
  },
  {
   "cell_type": "markdown",
   "id": "961e39f8-e305-4b8a-a048-6e55f30a1077",
   "metadata": {},
   "source": [
    "### Using one choppers opening at a time\n",
    "\n",
    "For each WFM choppers, we propagate the neutrons using one openings at a time,\n",
    "to find which combinations of openings lead to a frame on the detector."
   ]
  },
  {
   "cell_type": "code",
   "execution_count": null,
   "id": "18b30390-cea5-4493-b6e4-26ad53c13600",
   "metadata": {},
   "outputs": [],
   "source": [
    "ncutouts = len(choppers[0].open)\n",
    "results = []\n",
    "time_offsets = []\n",
    "\n",
    "print(\"Computing frames\")\n",
    "new_choppers = {c.name: c for c in choppers}\n",
    "\n",
    "# Run the model with a single frame at a time\n",
    "for i in range(ncutouts):\n",
    "    new_choppers['WFM1'] = tof.Chopper(\n",
    "        **choppers[0].as_dict()\n",
    "    )  # make a copy of the chopper\n",
    "    new_choppers['WFM1'].open = choppers[0].open[i : i + 1]\n",
    "    new_choppers['WFM1'].close = choppers[0].close[i : i + 1]\n",
    "    for j in range(ncutouts):\n",
    "        new_choppers['WFM2'] = tof.Chopper(\n",
    "            **choppers[1].as_dict()\n",
    "        )  # make a copy of the chopper\n",
    "        new_choppers['WFM2'].open = choppers[1].open[j : j + 1]\n",
    "        new_choppers['WFM2'].close = choppers[1].close[j : j + 1]\n",
    "        # Run the simulation using one opening from each WFM chopper\n",
    "        res = tof.Model(\n",
    "            source=source, choppers=list(new_choppers.values()), detectors=detectors\n",
    "        ).run()\n",
    "        if res.detectors[\"detector\"].tofs.data[\"visible\"].sizes['event'] != 0:\n",
    "            print(f'Frame found for chopper WFM1:cutout{i}, WFM2:cutout{j}')\n",
    "            # Append to result list\n",
    "            results.append(res)\n",
    "            # Record the chopper opening and close time for this frame\n",
    "            times = []\n",
    "            for key in (\"WFM1\", \"WFM2\"):\n",
    "                topen, tclose = new_choppers[key].open_close_times()\n",
    "                # Chopper open/close times main contain multiple rotations, and we\n",
    "                # thus need to select the rotation that is relevant for the pulse of interest\n",
    "                sel = (tclose > tfast[key]) & (topen < tslow[key])\n",
    "                times.extend([topen[sel], tclose[sel]])\n",
    "            time_offsets.append(sc.concat(times, dim='x').mean())"
   ]
  },
  {
   "cell_type": "code",
   "execution_count": null,
   "id": "a979f0ce-cdb5-4df7-a002-3a6ae1c07a71",
   "metadata": {},
   "outputs": [],
   "source": [
    "# The offsets are not guaranteed to be sorted, but some code below needs them to be\n",
    "time_offsets, results = zip(*sorted(zip(time_offsets, results)))\n",
    "time_offsets"
   ]
  },
  {
   "cell_type": "markdown",
   "id": "bd6f1373-3da1-4779-8671-77af39382dd4",
   "metadata": {},
   "source": [
    "## Reducing overlap between frames\n",
    "\n",
    "There is a small amount of time overlap between some of the frames, as illustrated by this figure\n",
    "(for example, some of the neutrons that belong to <span style=\"color: #2ca02c;\">frame 2</span> are bleeding into the range that belongs to <span style=\"color: #ff7f0e;\">frame 1</span>)."
   ]
  },
  {
   "cell_type": "code",
   "execution_count": null,
   "id": "5a83f634-9d0f-4668-97dd-eb6130a44d13",
   "metadata": {},
   "outputs": [],
   "source": [
    "# Define a common binning that covers the entire range\n",
    "full_tofs = (\n",
    "    full_beamline_results.detectors[\"detector\"]\n",
    "    .tofs.visible.data['pulse:0']\n",
    "    .coords['tof']\n",
    ")\n",
    "bins = sc.linspace('tof', full_tofs.min(), full_tofs.max(), num=301)\n",
    "\n",
    "pp.plot(\n",
    "    {\n",
    "        f\"Frame-{i}\": res.detectors[\"detector\"]\n",
    "        .tofs.visible.data['pulse:0']\n",
    "        .hist(tof=bins)\n",
    "        for i, res in enumerate(results)\n",
    "    }\n",
    ")"
   ]
  },
  {
   "cell_type": "markdown",
   "id": "8f76007b-da07-4fa7-8ce2-98d57bcbd2c4",
   "metadata": {},
   "source": [
    "Regions where time of flight overlaps between frames are regions where the wavelength of a neutron cannot accurately be determined,\n",
    "as neutrons have the same arrival time at the detector,\n",
    "but different start times at the source end of the beamline.\n",
    "\n",
    "They are usually a sign of a faulty design in the chopper cascade,\n",
    "and we thus need to discard neutrons from any overlapping regions in our final result.\n",
    "\n",
    "One way to achieve this is to remove the outliers from the edges of the frames, until the frames no longer overlap.\n",
    "This is done below by gradually increasing percentile threshold on the `tof` reading at the detector until overlap is gone."
   ]
  },
  {
   "cell_type": "code",
   "execution_count": null,
   "id": "8eb2487f-8a15-473b-bd21-ef5142be857c",
   "metadata": {},
   "outputs": [],
   "source": [
    "percentile_step = 0.1  # Step by which to increase percentile thresholds\n",
    "\n",
    "non_overlapping = []\n",
    "for res in results:\n",
    "    data = res.detectors[\"detector\"].data.squeeze()\n",
    "    non_overlapping.append(data[~data.masks['blocked_by_others']])\n",
    "\n",
    "for i in range(len(results) - 1):\n",
    "    # Find mean wavelength between frames\n",
    "    tofs1 = non_overlapping[i].coords['tof']\n",
    "    tofs2 = non_overlapping[i + 1].coords['tof']\n",
    "    p = 0.0\n",
    "    overlap = True\n",
    "    while overlap:\n",
    "        tofmin = np.percentile(tofs2.values, p)\n",
    "        tofmax = np.percentile(tofs1.values, 100 - p)\n",
    "        overlap = tofmin < tofmax\n",
    "        p += percentile_step\n",
    "    # Filter on tofs\n",
    "    non_overlapping[i] = non_overlapping[i][tofs1 <= sc.scalar(tofmax, unit=tofs1.unit)]\n",
    "    non_overlapping[i + 1] = non_overlapping[i + 1][\n",
    "        tofs2 >= sc.scalar(tofmin, unit=tofs2.unit)\n",
    "    ]\n",
    "\n",
    "for frame in non_overlapping:\n",
    "    w = frame.coords[\"wavelength\"]\n",
    "    t = frame.coords[\"tof\"]\n",
    "    print(\n",
    "        f\"Neutrons={len(frame)}, wmin={w.min():c}, wmax={w.max():c}, tofmin={t.min():c}, tofmax={t.max():c}\"\n",
    "    )"
   ]
  },
  {
   "cell_type": "code",
   "execution_count": null,
   "id": "92f8e2fd-c95a-4a80-b06b-e3b8a00a819c",
   "metadata": {},
   "outputs": [],
   "source": [
    "# Store the frame bounds to a format used by the stitching\n",
    "frames = sc.DataGroup(\n",
    "    {\n",
    "        \"time_min\": sc.concat(\n",
    "            [data.coords['tof'].min() for data in non_overlapping], dim=\"frame\"\n",
    "        ),\n",
    "        \"time_max\": sc.concat(\n",
    "            [data.coords['tof'].max() for data in non_overlapping], dim=\"frame\"\n",
    "        ),\n",
    "        \"time_correction\": sc.concat(time_offsets, dim='frame'),\n",
    "    }\n",
    ")\n",
    "frames"
   ]
  },
  {
   "cell_type": "markdown",
   "id": "3891b351-4c17-42c2-9c88-68facd82b2aa",
   "metadata": {},
   "source": [
    "## Inspecting the frames\n",
    "\n",
    "### Tof frame boundaries\n",
    "\n",
    "As a consistency check,\n",
    "we can overlay the frame bounds onto the detector reading to verify that each frame spans the expected `tof` range,\n",
    "and that there is no overlap between the frames."
   ]
  },
  {
   "cell_type": "code",
   "execution_count": null,
   "id": "fe74cce8-5fd5-41ec-8906-3af6ee3ed539",
   "metadata": {},
   "outputs": [],
   "source": [
    "f = full_beamline_results.detectors[\"detector\"].tofs.plot(legend=False, color='k')\n",
    "for i, (left, right) in enumerate(zip(frames[\"time_min\"], frames[\"time_max\"])):\n",
    "    col = f\"C{i}\"\n",
    "    f.ax.axvspan(left.value, right.value, alpha=0.1, color=col)\n",
    "    f.ax.axvline(left.value, color=col)\n",
    "    f.ax.axvline(right.value, color=col)\n",
    "f"
   ]
  },
  {
   "cell_type": "markdown",
   "id": "5fd905ab-f9b2-437f-9c3a-1bad599447d5",
   "metadata": {},
   "source": [
    "### Time-distance diagram\n",
    "\n",
    "Another way of verifying the frames that were computed is to find the fastest and slowest neutron in each frame,\n",
    "and propagate those through the choppers and show the time-distance diagram."
   ]
  },
  {
   "cell_type": "code",
   "execution_count": null,
   "id": "aa48153f-25ac-4cb8-afc7-8b15d7305e9d",
   "metadata": {},
   "outputs": [],
   "source": [
    "frame_min = []\n",
    "frame_max = []\n",
    "\n",
    "for data in non_overlapping:\n",
    "    ind_min = np.argmin(data.coords['wavelength'].values)\n",
    "    ind_max = np.argmax(data.coords['wavelength'].values)\n",
    "    frame_min.append(data[ind_min])\n",
    "    frame_max.append(data[ind_max])\n",
    "\n",
    "# Create a source by manually setting neutron birth times and wavelengths\n",
    "birth_times = sc.concat(\n",
    "    [f.coords[\"time\"] for f in frame_min] + [f.coords[\"time\"] for f in frame_max],\n",
    "    dim=\"event\",\n",
    ")\n",
    "wavelengths = sc.concat(\n",
    "    [f.coords[\"wavelength\"] for f in frame_min]\n",
    "    + [f.coords[\"wavelength\"] for f in frame_max],\n",
    "    dim=\"event\",\n",
    ")\n",
    "source_min_max = tof.Source.from_neutrons(\n",
    "    birth_times=birth_times, wavelengths=wavelengths\n",
    ")\n",
    "source_min_max"
   ]
  },
  {
   "cell_type": "markdown",
   "id": "3ce82c32-2b0d-4e19-a17e-e280caa734c4",
   "metadata": {},
   "source": [
    "We can see that the source has 12 neutrons, which is 2 per frame.\n",
    "Re-running the model with those yields"
   ]
  },
  {
   "cell_type": "code",
   "execution_count": null,
   "id": "a797542b-130d-4571-8d3f-6b81fb4781df",
   "metadata": {},
   "outputs": [],
   "source": [
    "model = tof.Model(source=source_min_max, choppers=choppers, detectors=detectors)\n",
    "model.run().plot()"
   ]
  },
  {
   "cell_type": "markdown",
   "id": "54b85305-c89b-4077-97c2-10c447793725",
   "metadata": {},
   "source": [
    "It is important to note here that the maximum wavelength of frame $i$ should be close to the minimum wavelength of frame $i+1$."
   ]
  },
  {
   "cell_type": "markdown",
   "id": "c808287b-e569-48c6-a964-ee19d06380ef",
   "metadata": {},
   "source": [
    "## Stitching the data: computing a new time-of-flight\n",
    "\n",
    "Using WFM choppers allows us to re-define the burst time of the neutrons, and compute a more accurate wavelength.\n",
    "\n",
    "In the following, we use the boundaries of the frames to select neutrons in each frame,\n",
    "and apply a correction to the time-of-flight of those neutrons which corresponds to the time when the WFM choppers are open.\n",
    "\n",
    "### Computing wavelengths from the naive time-of-flight\n",
    "\n",
    "We first begin by computing the neutron wavelengths as if there were no WFM choppers.\n",
    "We take the distance from the source to the detector, and use the neutron arrival time at the detector to compute a speed and hence a wavelength."
   ]
  },
  {
   "cell_type": "code",
   "execution_count": null,
   "id": "979a7fd7-3597-4522-ab41-9ddf6098c241",
   "metadata": {},
   "outputs": [],
   "source": [
    "# Extract the tof data of the events that make it through to the detector\n",
    "tofs = full_beamline_results[\"detector\"].tofs.data[\"visible\"][\"pulse:0\"].copy()\n",
    "tofs.coords[\"source_position\"] = sc.vector([0.0, 0.0, 0.0], unit=\"m\")\n",
    "tofs.coords[\"position\"] = sc.vector(\n",
    "    [0.0, 0.0, detectors[0].distance.value], unit=detectors[0].distance.unit\n",
    ")\n",
    "tofs"
   ]
  },
  {
   "cell_type": "markdown",
   "id": "1584ab73-9a08-43e5-9047-9f8ec15e56e4",
   "metadata": {},
   "source": [
    "Converting the time-of-flight to wavelength is done using Scipp's `transform_coords`:"
   ]
  },
  {
   "cell_type": "code",
   "execution_count": null,
   "id": "dbb79512-efbc-4f9c-92e4-e1125f18b07f",
   "metadata": {},
   "outputs": [],
   "source": [
    "# Make a coordinate transformation graph to compute wavelength from tof\n",
    "graph = {**beamline(scatter=False), **elastic(\"tof\")}\n",
    "wav_naive = tofs.transform_coords(\"wavelength\", graph=graph)\n",
    "wav_naive.hist(wavelength=300).plot()"
   ]
  },
  {
   "attachments": {},
   "cell_type": "markdown",
   "id": "922f2585-8eab-4a22-9583-4dee71932815",
   "metadata": {},
   "source": [
    "### Computing time-of-flight from WFM choppers to detector\n",
    "\n",
    "Instead of using the source as the departure point of the neutrons, we use the WFM choppers.\n",
    "This means that the distance used for the flight is from the WFM choppers to the detector,\n",
    "and the flight time is from when the choppers open to the arrival time at detector.\n",
    "\n",
    "Those were computed above, and stored as `time_correction` in the `frames` data group.\n",
    "\n",
    "We apply the corrections, which effectively 'stitches' the data back together:"
   ]
  },
  {
   "cell_type": "code",
   "execution_count": null,
   "id": "d7da162f-bb0b-4bf9-812e-ba14b12ad1fd",
   "metadata": {},
   "outputs": [],
   "source": [
    "def stitch(\n",
    "    data: sc.DataArray,\n",
    "    frames: sc.DataGroup,\n",
    "    dim: str,\n",
    ") -> sc.DataArray:\n",
    "    edges = sc.flatten(\n",
    "        sc.transpose(\n",
    "            sc.concat([frames[\"time_min\"], frames[\"time_max\"]], \"dummy\"),\n",
    "            dims=[\"frame\", \"dummy\"],\n",
    "        ),\n",
    "        to=dim,\n",
    "    )\n",
    "\n",
    "    binned = data.bin({dim: edges})\n",
    "\n",
    "    for i in range(frames.sizes[\"frame\"]):\n",
    "        binned[dim, i * 2].bins.coords[dim] -= frames[\"time_correction\"][\"frame\", i]\n",
    "\n",
    "    binned.masks[\"frame_gaps\"] = (\n",
    "        sc.arange(dim, 2 * frames.sizes[\"frame\"] - 1) % 2\n",
    "    ).astype(bool)\n",
    "    binned.masks[\"frame_gaps\"].unit = None\n",
    "    return binned.bins.concat()\n",
    "\n",
    "\n",
    "wfm_tofs = stitch(data=tofs, frames=frames, dim=\"tof\")"
   ]
  },
  {
   "cell_type": "markdown",
   "id": "8895fba5-c777-4190-ab02-9d7be7acbe8e",
   "metadata": {},
   "source": [
    "Finally, we change the `source_position` to now be the mid-point between the WFM choppers:"
   ]
  },
  {
   "cell_type": "code",
   "execution_count": null,
   "id": "160412bd-6253-4ac3-87ff-058e9db2132f",
   "metadata": {},
   "outputs": [],
   "source": [
    "wfm_tofs.coords[\"source_position\"] = sc.vector(\n",
    "    [0.0, 0.0, 0.5 * (choppers[0].distance.value + choppers[1].distance.value)],\n",
    "    unit=choppers[0].distance.unit,\n",
    ")\n",
    "wfm_tofs"
   ]
  },
  {
   "cell_type": "markdown",
   "id": "c2bdf70a-a2c9-4d93-a17b-5191d3f8c784",
   "metadata": {},
   "source": [
    "We can now compute wavelengths using the `transform_coords`, as before:"
   ]
  },
  {
   "cell_type": "code",
   "execution_count": null,
   "id": "ea7a25f0-4ce8-4ace-9bec-2cece7e4ee08",
   "metadata": {},
   "outputs": [],
   "source": [
    "wav_wfm = wfm_tofs.transform_coords(\"wavelength\", graph=graph)"
   ]
  },
  {
   "cell_type": "markdown",
   "id": "ea677910-7670-4588-991b-baa3fc54f0eb",
   "metadata": {},
   "source": [
    "### Comparison between naive and WFM computations\n",
    "\n",
    "We compare the wavelengths computed using the naive approach, the WFM approach, and also with the true wavelengths of the neutrons:"
   ]
  },
  {
   "cell_type": "code",
   "execution_count": null,
   "id": "893a2d62-82d0-4bd2-acf2-688cd0d5fec9",
   "metadata": {},
   "outputs": [],
   "source": [
    "pp.plot(\n",
    "    {\n",
    "        \"naive\": wav_naive.hist(wavelength=300),\n",
    "        \"wfm\": wav_wfm.hist(wavelength=300),\n",
    "        \"truth\": full_beamline_results[\"detector\"]\n",
    "        .wavelengths.data[\"visible\"][\"pulse:0\"]\n",
    "        .hist(wavelength=300),\n",
    "    }\n",
    ")"
   ]
  },
  {
   "cell_type": "markdown",
   "id": "da6a161b-2051-4afa-a49a-7eb045356d01",
   "metadata": {},
   "source": [
    "As we can see, the WFM approach vastly outperforms the naive approach."
   ]
  },
  {
   "cell_type": "code",
   "execution_count": null,
   "id": "f8f3cf78-7dbd-4891-915a-399450dcbe9c",
   "metadata": {},
   "outputs": [],
   "source": [
    "bs = [(float(name[len('detector'):]), d.data['pulse', 0].copy()) for name, d in full_beamline_results.detectors.items()]\n",
    "for L, b in bs:\n",
    "    b.coords['Ltot'] = sc.scalar(L, unit='m')\n",
    "\n",
    "bs = [b for _, b in bs]\n",
    "\n",
    "b = sc.concat(bs, dim='Ltot')\n",
    "for m in b.masks.values():\n",
    "    b = b[~m]\n",
    "\n",
    "b = b.group('Ltot').bins.concat('event').bin(tof=500)\n",
    "mu = (b * b.bins.coords['wavelength']).bins.mean() / b.bins.mean()\n",
    "var = (b * (b.bins.coords['wavelength'] - mu)**2).bins.mean() / b.bins.mean()\n",
    "(sc.sqrt(var) / mu).plot()"
   ]
  },
  {
   "cell_type": "code",
   "execution_count": null,
   "id": "d154cbdd-4e52-4a51-9d75-39acb8e2094a",
   "metadata": {},
   "outputs": [],
   "source": [
    "(T - t0) * iL = l"
   ]
  },
  {
   "cell_type": "code",
   "execution_count": null,
   "id": "a3209d1b-88c7-4338-bf66-23d0b298ec16",
   "metadata": {},
   "outputs": [],
   "source": [
    "mu.plot()"
   ]
  },
  {
   "cell_type": "code",
   "execution_count": null,
   "id": "f7d43b9e-bc43-4fec-8c13-bd0658722c70",
   "metadata": {},
   "outputs": [],
   "source": [
    " mu.plot().save('wavelength.png')"
   ]
  },
  {
   "cell_type": "code",
   "execution_count": null,
   "id": "b391b037-2885-410f-9f4e-d0ee645bfe76",
   "metadata": {},
   "outputs": [],
   "source": [
    "(sc.midpoints(mu.coords['tof']) - ((mu * mu.coords['Ltot']) / sc.constants.h * sc.constants.m_n).to(unit='us')).plot()"
   ]
  }
 ],
 "metadata": {
  "kernelspec": {
   "display_name": "Python 3 (ipykernel)",
   "language": "python",
   "name": "python3"
  },
  "language_info": {
   "codemirror_mode": {
    "name": "ipython",
    "version": 3
   },
   "file_extension": ".py",
   "mimetype": "text/x-python",
   "name": "python",
   "nbconvert_exporter": "python",
   "pygments_lexer": "ipython3",
   "version": "3.10.15"
  }
 },
 "nbformat": 4,
 "nbformat_minor": 5
}
