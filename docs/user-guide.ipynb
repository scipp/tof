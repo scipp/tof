{
 "cells": [
  {
   "cell_type": "markdown",
   "id": "6b645603-12c0-4b3d-ab3c-529ad4f373e3",
   "metadata": {},
   "source": [
    "# User guide"
   ]
  },
  {
   "cell_type": "code",
   "execution_count": null,
   "id": "899a245a-0ae7-45dd-b684-3b9d1c034cc6",
   "metadata": {},
   "outputs": [],
   "source": [
    "import numpy as np\n",
    "import tof"
   ]
  },
  {
   "cell_type": "code",
   "execution_count": null,
   "id": "a2699065-309c-439c-bcda-bf15d20edd0b",
   "metadata": {},
   "outputs": [],
   "source": [
    "pulse = tof.Pulse(kind='ess', neutrons=1_000_000)\n",
    "pulse"
   ]
  },
  {
   "cell_type": "code",
   "execution_count": null,
   "id": "49fec301-52a4-45a7-9438-b3f736e50b9f",
   "metadata": {},
   "outputs": [],
   "source": [
    "pulse.plot()"
   ]
  },
  {
   "cell_type": "code",
   "execution_count": null,
   "id": "34314bcc-978c-468c-b5a1-d84ce33e53d5",
   "metadata": {},
   "outputs": [],
   "source": [
    "choppers = [\n",
    "    tof.Chopper(\n",
    "        frequency=70,\n",
    "        open=np.array([83.71, 140.49, 193.26, 242.32, 287.91, 330.3]) + 15.0,\n",
    "        close=np.array([94.7, 155.79, 212.56, 265.33, 314.37, 360.0]) + 15.0,\n",
    "        phase=47.10,\n",
    "        distance=6.6,\n",
    "        unit=\"deg\",\n",
    "        name=\"WFM1\",\n",
    "    ),\n",
    "    tof.Chopper(\n",
    "        frequency=70,\n",
    "        open=np.array([65.04, 126.1, 182.88, 235.67, 284.73, 330.00]) + 15.0,\n",
    "        close=np.array([76.03, 141.4, 202.18, 254.97, 307.74, 360.0]) + 15.0,\n",
    "        phase=76.76,\n",
    "        distance=7.1,\n",
    "        unit=\"deg\",\n",
    "        name=\"WFM2\",\n",
    "    ),\n",
    "    tof.Chopper(\n",
    "        frequency=56,\n",
    "        open=np.array([74.6, 139.6, 194.3, 245.3, 294.8, 347.2]),\n",
    "        close=np.array([95.2, 162.8, 216.1, 263.1, 310.5, 371.6]),\n",
    "        phase=62.40,\n",
    "        distance=8.8,\n",
    "        unit=\"deg\",\n",
    "        name=\"Frame-overlap 1\",\n",
    "    ),\n",
    "    tof.Chopper(\n",
    "        frequency=28,\n",
    "        open=np.array([98.0, 154.0, 206.8, 254.0, 299.0, 344.65]),\n",
    "        close=np.array([134.6, 190.06, 237.01, 280.88, 323.56, 373.76]),\n",
    "        phase=12.27,\n",
    "        distance=15.9,\n",
    "        unit=\"deg\",\n",
    "        name=\"Frame-overlap 2\",\n",
    "    ),\n",
    "]"
   ]
  },
  {
   "cell_type": "code",
   "execution_count": null,
   "id": "a377e75c-51a5-4994-af9c-92139d27bee3",
   "metadata": {},
   "outputs": [],
   "source": [
    "detectors = [\n",
    "    tof.Detector(distance=23.0, name='monitor'),\n",
    "    tof.Detector(distance=32.0, name='detector'),\n",
    "]"
   ]
  },
  {
   "cell_type": "code",
   "execution_count": null,
   "id": "05c191a2-81ef-41d3-8f64-343f72d7555d",
   "metadata": {},
   "outputs": [],
   "source": [
    "model = tof.Model(choppers=choppers, pulse=pulse, detectors=detectors)\n",
    "model"
   ]
  },
  {
   "cell_type": "code",
   "execution_count": null,
   "id": "9a2d019b-5c0d-4bf1-8b38-3ed18f6f687c",
   "metadata": {},
   "outputs": [],
   "source": [
    "model.run()"
   ]
  },
  {
   "cell_type": "code",
   "execution_count": null,
   "id": "7eea136a-4c5f-420c-8fd5-1cdc64be939f",
   "metadata": {},
   "outputs": [],
   "source": [
    "model.plot(max_rays=10000)"
   ]
  },
  {
   "cell_type": "code",
   "execution_count": null,
   "id": "72e46653-6ea5-45aa-9ca9-cbdb7fa3c88c",
   "metadata": {},
   "outputs": [],
   "source": [
    "detectors[0].plot()"
   ]
  },
  {
   "cell_type": "code",
   "execution_count": null,
   "id": "740a58ef-1d79-4e48-b0f4-cd83cb5c872a",
   "metadata": {},
   "outputs": [],
   "source": [
    "detectors[1].plot()"
   ]
  },
  {
   "cell_type": "code",
   "execution_count": null,
   "id": "7aedb1b0-e150-4a4a-8572-3026ccdbee92",
   "metadata": {},
   "outputs": [],
   "source": [
    "choppers[2].plot()"
   ]
  }
 ],
 "metadata": {
  "kernelspec": {
   "display_name": "Python 3 (ipykernel)",
   "language": "python",
   "name": "python3"
  },
  "language_info": {
   "codemirror_mode": {
    "name": "ipython",
    "version": 3
   },
   "file_extension": ".py",
   "mimetype": "text/x-python",
   "name": "python",
   "nbconvert_exporter": "python",
   "pygments_lexer": "ipython3"
  }
 },
 "nbformat": 4,
 "nbformat_minor": 5
}
