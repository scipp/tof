{
 "cells": [
  {
   "cell_type": "markdown",
   "id": "6b645603-12c0-4b3d-ab3c-529ad4f373e3",
   "metadata": {},
   "source": [
    "# WFM beamlines\n",
    "\n",
    "Wavelength-frame-multiplication (WFM) is a technique commonly used at long-pulse facilities to improve the resolution of the results measured at the neutron detectors.\n",
    "See for example the article by [Schmakat et al. (2020)](https://www.sciencedirect.com/science/article/pii/S0168900220308640) for a description of how WFM works.\n",
    "\n",
    "In this notebook, we show how `tof` can be used to convert a neutron time of arrival at the detector to a wavelength."
   ]
  },
  {
   "cell_type": "code",
   "execution_count": null,
   "id": "899a245a-0ae7-45dd-b684-3b9d1c034cc6",
   "metadata": {},
   "outputs": [],
   "source": [
    "import numpy as np\n",
    "import scipp as sc\n",
    "import plopp as pp\n",
    "import tof\n",
    "\n",
    "Hz = sc.Unit(\"Hz\")\n",
    "deg = sc.Unit(\"deg\")\n",
    "meter = sc.Unit(\"m\")"
   ]
  },
  {
   "cell_type": "markdown",
   "id": "3890d24c-93ab-4faa-b653-c9208b5eba23",
   "metadata": {},
   "source": [
    "## Create a source pulse\n",
    "\n",
    "We first create a source with one pulse containing 500,000 neutrons whose distribution follows the ESS time and wavelength profiles (both thermal and cold neutrons are included)."
   ]
  },
  {
   "cell_type": "code",
   "execution_count": null,
   "id": "872800a5-4cf7-424e-8d2d-0db81292456c",
   "metadata": {},
   "outputs": [],
   "source": [
    "source = tof.Source(facility=\"ess\", neutrons=500_000)\n",
    "source.plot()"
   ]
  },
  {
   "cell_type": "code",
   "execution_count": null,
   "id": "3b39e97a-d6d7-4e75-8095-f7b0206a1bd0",
   "metadata": {},
   "outputs": [],
   "source": [
    "source.data"
   ]
  },
  {
   "cell_type": "markdown",
   "id": "b5ffdab6-10cd-4719-8ff2-86e5e1d10571",
   "metadata": {},
   "source": [
    "## Component set-up\n",
    "\n",
    "### Choppers\n",
    "\n",
    "We create a list of choppers that will be included in our beamline.\n",
    "In our case, we make two WFM choppers, and two frame-overlap choppers.\n",
    "All choppers have 6 openings.\n",
    "\n",
    "Finally, we also add a pulse-overlap chopper with a single opening.\n",
    "These choppers are copied after the [V20 ESS beamline at HZB](https://www.sciencedirect.com/science/article/pii/S0168900216309597)."
   ]
  },
  {
   "cell_type": "code",
   "execution_count": null,
   "id": "34314bcc-978c-468c-b5a1-d84ce33e53d5",
   "metadata": {},
   "outputs": [],
   "source": [
    "choppers = [\n",
    "    tof.Chopper(\n",
    "        frequency=70.0 * Hz,\n",
    "        open=sc.array(\n",
    "            dims=[\"cutout\"],\n",
    "            values=[98.71, 155.49, 208.26, 257.32, 302.91, 345.3],\n",
    "            unit=\"deg\",\n",
    "        ),\n",
    "        close=sc.array(\n",
    "            dims=[\"cutout\"],\n",
    "            values=[109.7, 170.79, 227.56, 280.33, 329.37, 375.0],\n",
    "            unit=\"deg\",\n",
    "        ),\n",
    "        phase=47.10 * deg,\n",
    "        distance=6.6 * meter,\n",
    "        name=\"WFM1\",\n",
    "    ),\n",
    "    tof.Chopper(\n",
    "        frequency=70 * Hz,\n",
    "        open=sc.array(\n",
    "            dims=[\"cutout\"],\n",
    "            values=[80.04, 141.1, 197.88, 250.67, 299.73, 345.0],\n",
    "            unit=\"deg\",\n",
    "        ),\n",
    "        close=sc.array(\n",
    "            dims=[\"cutout\"],\n",
    "            values=[91.03, 156.4, 217.18, 269.97, 322.74, 375.0],\n",
    "            unit=\"deg\",\n",
    "        ),\n",
    "        phase=76.76 * deg,\n",
    "        distance=7.1 * meter,\n",
    "        name=\"WFM2\",\n",
    "    ),\n",
    "    tof.Chopper(\n",
    "        frequency=56 * Hz,\n",
    "        open=sc.array(\n",
    "            dims=[\"cutout\"],\n",
    "            values=[74.6, 139.6, 194.3, 245.3, 294.8, 347.2],\n",
    "            unit=\"deg\",\n",
    "        ),\n",
    "        close=sc.array(\n",
    "            dims=[\"cutout\"],\n",
    "            values=[95.2, 162.8, 216.1, 263.1, 310.5, 371.6],\n",
    "            unit=\"deg\",\n",
    "        ),\n",
    "        phase=62.40 * deg,\n",
    "        distance=8.8 * meter,\n",
    "        name=\"Frame-overlap 1\",\n",
    "    ),\n",
    "    tof.Chopper(\n",
    "        frequency=28 * Hz,\n",
    "        open=sc.array(\n",
    "            dims=[\"cutout\"],\n",
    "            values=[98.0, 154.0, 206.8, 254.0, 299.0, 344.65],\n",
    "            unit=\"deg\",\n",
    "        ),\n",
    "        close=sc.array(\n",
    "            dims=[\"cutout\"],\n",
    "            values=[134.6, 190.06, 237.01, 280.88, 323.56, 373.76],\n",
    "            unit=\"deg\",\n",
    "        ),\n",
    "        phase=12.27 * deg,\n",
    "        distance=15.9 * meter,\n",
    "        name=\"Frame-overlap 2\",\n",
    "    ),\n",
    "    tof.Chopper(\n",
    "        frequency=7 * Hz,\n",
    "        open=sc.array(\n",
    "            dims=[\"cutout\"],\n",
    "            values=[30.0],\n",
    "            unit=\"deg\",\n",
    "        ),\n",
    "        close=sc.array(\n",
    "            dims=[\"cutout\"],\n",
    "            values=[140.0],\n",
    "            unit=\"deg\",\n",
    "        ),\n",
    "        phase=0 * deg,\n",
    "        distance=22 * meter,\n",
    "        name=\"Pulse-overlap\",\n",
    "    ),\n",
    "]"
   ]
  },
  {
   "cell_type": "markdown",
   "id": "bd6e1399-7f05-4d5c-83e3-7d249d9e0a61",
   "metadata": {},
   "source": [
    "### Detectors\n",
    "\n",
    "We add a single detector 32 meters from the source."
   ]
  },
  {
   "cell_type": "code",
   "execution_count": null,
   "id": "a377e75c-51a5-4994-af9c-92139d27bee3",
   "metadata": {},
   "outputs": [],
   "source": [
    "detectors = [\n",
    "    tof.Detector(distance=32.0 * meter, name=\"detector\"),\n",
    "]"
   ]
  },
  {
   "cell_type": "markdown",
   "id": "4deb2f50-92b7-4838-b180-17e3ce43743d",
   "metadata": {},
   "source": [
    "## Run the simulation\n",
    "\n",
    "We propagate our pulse of neutrons through the chopper cascade and inspect the results."
   ]
  },
  {
   "cell_type": "code",
   "execution_count": null,
   "id": "e5812eda-2e56-4f72-89bc-4e778046243f",
   "metadata": {},
   "outputs": [],
   "source": [
    "model = tof.Model(source=source, choppers=choppers, detectors=detectors)\n",
    "results = model.run()\n",
    "results.plot(blocked_rays=5000)"
   ]
  },
  {
   "cell_type": "markdown",
   "id": "51e45cee-a630-4886-bc9f-a744a20cba28",
   "metadata": {},
   "source": [
    "## Wavelength as a function of time-of-arrival\n",
    "\n",
    "### Plotting wavelength vs time-of-arrival\n",
    "\n",
    "Since we know the true wavelength of our neutrons,\n",
    "as well as the time at which the neutrons arrive at the detector\n",
    "(coordinate named `toa` in the detector reading),\n",
    "we can plot an image of the wavelengths as a function of time-of-arrival:"
   ]
  },
  {
   "cell_type": "code",
   "execution_count": null,
   "id": "c3f48d70-7836-4e6a-aa9c-e278303af30c",
   "metadata": {},
   "outputs": [],
   "source": [
    "# Squeeze the pulse dimension since we only have one pulse\n",
    "events = results['detector'].data.squeeze()\n",
    "# Remove the events that don't make it to the detector\n",
    "events = events[~events.masks['blocked_by_others']]\n",
    "# Histogram and plot\n",
    "events.hist(wavelength=500, toa=500).plot(norm='log', grid=True)"
   ]
  },
  {
   "cell_type": "markdown",
   "id": "aadc3250-f49d-462f-8aac-2d3500596b6b",
   "metadata": {},
   "source": [
    "### Defining a conversion from `toa` to `wavelength`\n",
    "\n",
    "The image above shows that there is a pretty tight correlation between time-of-arrival and wavelength.\n",
    "\n",
    "We compute the mean wavelength inside a given `toa` bin to define a relation between `toa` and `wavelength`."
   ]
  },
  {
   "cell_type": "code",
   "execution_count": null,
   "id": "9e8f056e-8c8e-4c1b-8dbf-5b350bba5c94",
   "metadata": {},
   "outputs": [],
   "source": [
    "binned = events.bin(toa=500)\n",
    "\n",
    "# Weighted mean of wavelength inside each bin\n",
    "mu = (\n",
    "    binned.bins.data * binned.bins.coords['wavelength']\n",
    ").bins.sum() / binned.bins.sum()\n",
    "\n",
    "# Variance of wavelengths inside each bin\n",
    "var = (\n",
    "    binned.bins.data * (binned.bins.coords['wavelength'] - mu) ** 2\n",
    ") / binned.bins.sum()"
   ]
  },
  {
   "cell_type": "markdown",
   "id": "fb5cddc2-9ebf-427f-b38f-cf25b2c5cdfc",
   "metadata": {},
   "source": [
    "We can now overlay our mean wavelength function on the image above:"
   ]
  },
  {
   "cell_type": "code",
   "execution_count": null,
   "id": "b0a83ab4-af22-40a4-851a-4a80ce358f45",
   "metadata": {},
   "outputs": [],
   "source": [
    "import matplotlib.pyplot as plt\n",
    "\n",
    "fig, ax = plt.subplots(2, 1)\n",
    "\n",
    "f = events.hist(wavelength=500, tof=500).plot(norm='log', cbar=False, ax=ax[0])\n",
    "mu.name = 'Wavelength'\n",
    "mu.plot(ax=ax[0], color='C1', grid=True)\n",
    "stddev = sc.sqrt(var.hist())\n",
    "stddev.name = 'Standard deviation'\n",
    "stddev.plot(ax=ax[1], grid=True)\n",
    "fig.set_size_inches(6, 8)\n",
    "fig.tight_layout()"
   ]
  },
  {
   "cell_type": "markdown",
   "id": "d3675286-e36e-4d65-9d6c-012f5b4c39e5",
   "metadata": {},
   "source": [
    "## Computing wavelengths\n",
    "\n",
    "We set up an interpolator that will compute wavelengths given an array of `toas`."
   ]
  },
  {
   "cell_type": "code",
   "execution_count": null,
   "id": "0f231769-8e79-4692-b4f0-a1e9e11782e1",
   "metadata": {},
   "outputs": [],
   "source": [
    "from scipp.scipy.interpolate import interp1d\n",
    "\n",
    "# Set up interpolator\n",
    "y = mu.copy()\n",
    "y.coords['toa'] = sc.midpoints(y.coords['toa'])\n",
    "f = interp1d(y, 'toa', bounds_error=False)\n",
    "\n",
    "# Compute wavelengths\n",
    "wavs = f(events.coords['toa'].rename_dims(event='toa'))\n",
    "wavelengths = sc.DataArray(\n",
    "    data=sc.ones(sizes=wavs.sizes, unit='counts'), coords={'wavelength': wavs.data}\n",
    ").rename_dims(toa='event')\n",
    "wavelengths"
   ]
  },
  {
   "cell_type": "markdown",
   "id": "a6512644-d9b7-47e1-861b-9dde24fa012a",
   "metadata": {},
   "source": [
    "We can now compare our computed wavelengths to the true wavelengths of the neutrons.\n",
    "We also include a naive computation of the neutron wavelengths using the `toa` coordinate directly with the detector distance."
   ]
  },
  {
   "cell_type": "code",
   "execution_count": null,
   "id": "35824517-786d-41f4-ad3a-a96629ae81e2",
   "metadata": {},
   "outputs": [],
   "source": [
    "naive = events.copy()\n",
    "speed = detectors[0].distance / naive.coords['toa']\n",
    "naive.coords['wavelength'] = sc.reciprocal(\n",
    "    speed * sc.constants.m_n / sc.constants.h\n",
    ").to(unit='angstrom')"
   ]
  },
  {
   "cell_type": "code",
   "execution_count": null,
   "id": "1f4aad58-a1b0-4c90-9215-ab2e52191bbb",
   "metadata": {},
   "outputs": [],
   "source": [
    "pp.plot(\n",
    "    {\n",
    "        'naive': naive.hist(wavelength=300),\n",
    "        'wfm': wavelengths.hist(wavelength=300),\n",
    "        'original': events.hist(wavelength=300),\n",
    "    }\n",
    ")"
   ]
  },
  {
   "attachments": {},
   "cell_type": "markdown",
   "id": "ce1df677-098e-4bec-9278-07fe16d0379f",
   "metadata": {},
   "source": [
    "We can see that the WFM estimate clearly outperforms the naive computation.\n",
    "\n",
    "## Multiple detectors\n",
    "\n",
    "Detectors in real life are usually composed of hundreds of thousands of pixels,\n",
    "and each pixel can have a different distance from the source.\n",
    "For example, the edges of a flat detector panel will be slightly further away from the source than the pixels in the center of the panel.\n",
    "\n",
    "This does not mean we need to compute an interpolator for every detector pixel.\n",
    "We can instead find the range of pixel distances,\n",
    "and compute a 2d interpolator with a reasonable amount of bins as a function of distance.\n",
    "\n",
    "### Using a range of detectors\n",
    "\n",
    "Here, we assume that the minimum and maximum distances of our pixel range between 30 and 35 meters\n",
    "(in practise, the range would typically be much narrower)."
   ]
  },
  {
   "cell_type": "code",
   "execution_count": null,
   "id": "c5d10e75-dd29-4b9b-aaff-2856d28e288a",
   "metadata": {},
   "outputs": [],
   "source": [
    "# Use 50 distances between 30m and 35m\n",
    "distances = sc.linspace('distance', 30, 35, 50, unit='m')\n",
    "\n",
    "detectors = [\n",
    "    tof.Detector(distance=d, name=f\"detector-{i}\") for i, d in enumerate(distances)\n",
    "]\n",
    "\n",
    "# Re-run the simulation\n",
    "model = tof.Model(source=source, choppers=choppers, detectors=detectors)\n",
    "results = model.run()"
   ]
  },
  {
   "cell_type": "markdown",
   "id": "fc47024e-33a4-4fe1-9076-083bcf5b51f4",
   "metadata": {},
   "source": [
    "We can now concatenate all the readings along the `distance` dimension into a single data array:"
   ]
  },
  {
   "cell_type": "code",
   "execution_count": null,
   "id": "53ea9234-a691-4cc4-aa6c-850cc6e3637a",
   "metadata": {},
   "outputs": [],
   "source": [
    "events = [res.data.squeeze() for res in results.detectors.values()]\n",
    "events = sc.concat(\n",
    "    [ev[~ev.masks['blocked_by_others']] for ev in events], dim='distance'\n",
    ")\n",
    "events.coords['distance'] = distances\n",
    "events"
   ]
  },
  {
   "cell_type": "markdown",
   "id": "b3120ab4-0b6e-46b1-82e3-23cb594566f4",
   "metadata": {},
   "source": [
    "### Relation between `toa` and `wavelength` in 2D\n",
    "\n",
    "As in the previous section,\n",
    "we compute the weighted mean of the wavelengths inside each `toa` bin.\n",
    "\n",
    "This results in a 2D function of wavelength as a function of `toa` and `distance`."
   ]
  },
  {
   "cell_type": "code",
   "execution_count": null,
   "id": "32b87b94-5fa5-4e9f-8750-a1d7f7bfdf94",
   "metadata": {},
   "outputs": [],
   "source": [
    "binned = events.bin(toa=500, dim='event')\n",
    "\n",
    "# Weighted mean of wavelength inside each bin\n",
    "mu2d = (\n",
    "    binned.bins.data * binned.bins.coords['wavelength']\n",
    ").bins.sum() / binned.bins.sum()\n",
    "\n",
    "mu2d.plot()"
   ]
  },
  {
   "cell_type": "markdown",
   "id": "10f0e39b-12dc-497f-b3b5-a53a666b937a",
   "metadata": {},
   "source": [
    "### Computing wavelengths with a 2D interpolator\n",
    "\n",
    "We now set up a 2D grid interpolator to compute wavelengths for our neutrons."
   ]
  },
  {
   "cell_type": "code",
   "execution_count": null,
   "id": "d4947938-6f5a-436b-8d59-796a26914807",
   "metadata": {},
   "outputs": [],
   "source": [
    "from scipy.interpolate import RegularGridInterpolator\n",
    "\n",
    "f = RegularGridInterpolator(\n",
    "    (sc.midpoints(mu2d.coords['toa']).values, mu2d.coords['distance'].values),\n",
    "    mu2d.values.T,\n",
    "    method='linear',\n",
    "    bounds_error=False,\n",
    ")\n",
    "\n",
    "\n",
    "# Flatten the event list\n",
    "flat = events.flatten(to='event')\n",
    "\n",
    "# Compute wavelengths\n",
    "wavs = f((flat.coords['toa'].values, flat.coords['distance'].values))\n",
    "flat.coords['wavelength'] = sc.array(dims=['event'], values=wavs, unit='angstrom')"
   ]
  },
  {
   "cell_type": "markdown",
   "id": "24e01273-1dcc-4885-9a7c-52e72c519f69",
   "metadata": {},
   "source": [
    "We can now compare the results to the original wavelengths.\n",
    "\n",
    "Once again, we also include the naive computation for reference."
   ]
  },
  {
   "cell_type": "code",
   "execution_count": null,
   "id": "226cb305-3eb5-4409-be6b-be2aedf6de92",
   "metadata": {},
   "outputs": [],
   "source": [
    "# Naive wavelength computation\n",
    "naive = events.flatten(to='event')\n",
    "speed = naive.coords['distance'] / naive.coords['toa']\n",
    "naive.coords['wavelength'] = sc.reciprocal(\n",
    "    speed * sc.constants.m_n / sc.constants.h\n",
    ").to(unit='angstrom')\n",
    "\n",
    "# True wavelengths\n",
    "orig = events.hist(distance=40, wavelength=300)\n",
    "\n",
    "# Plot\n",
    "style = {'cmap': 'RdBu_r', 'vmin': -5, 'vmax': 5}\n",
    "fig1 = ((flat.hist(**orig.coords) - orig) / orig).plot(title='WFM', **style)\n",
    "fig2 = ((naive.hist(**orig.coords) - orig) / orig).plot(title='Naive', **style)\n",
    "fig1 + fig2"
   ]
  },
  {
   "cell_type": "markdown",
   "id": "1d28f370-dd84-41f9-af44-d1363a069772",
   "metadata": {},
   "source": [
    "This once again illustrates the superiority of the WFM estimate.\n",
    "\n",
    "An alternative way of comparing the accuracy of the methods is to look at the probability that a computed wavelength has relative error above $x$,\n",
    "as a function of $x$:"
   ]
  },
  {
   "cell_type": "code",
   "execution_count": null,
   "id": "23dde7e5-c2d2-4601-bf1e-fc3b85be7c85",
   "metadata": {},
   "outputs": [],
   "source": [
    "true_wavs = events.flatten(to='event').coords['wavelength']\n",
    "\n",
    "err_wfm = sc.abs(true_wavs - flat.coords['wavelength']) / true_wavs\n",
    "err_naive = sc.abs(true_wavs - naive.coords['wavelength']) / true_wavs\n",
    "\n",
    "bins = sc.geomspace('relative_error', 1e-3, 0.2, 101)\n",
    "err_wfm = sc.cumsum(err_wfm.hist(relative_error=bins))\n",
    "err_naive = sc.cumsum(err_naive.hist(relative_error=bins))\n",
    "\n",
    "p = pp.plot(\n",
    "    {'naive': 1 - err_naive / sc.max(err_naive), 'wfm': 1 - err_wfm / sc.max(err_wfm)},\n",
    "    scale={'relative_error': 'log'},\n",
    ")\n",
    "p.canvas.ylabel = 'Probability of $rel. err. > x$'\n",
    "p"
   ]
  }
 ],
 "metadata": {
  "kernelspec": {
   "display_name": "Python 3 (ipykernel)",
   "language": "python",
   "name": "python3"
  },
  "language_info": {
   "codemirror_mode": {
    "name": "ipython",
    "version": 3
   },
   "file_extension": ".py",
   "mimetype": "text/x-python",
   "name": "python",
   "nbconvert_exporter": "python",
   "pygments_lexer": "ipython3",
   "version": "3.10.12"
  }
 },
 "nbformat": 4,
 "nbformat_minor": 5
}
